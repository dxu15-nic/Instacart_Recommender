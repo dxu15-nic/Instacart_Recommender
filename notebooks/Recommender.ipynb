{
 "cells": [
  {
   "cell_type": "code",
   "execution_count": 1,
   "metadata": {
    "collapsed": true
   },
   "outputs": [],
   "source": [
    "# Hide deprecation warnings\n",
    "import warnings\n",
    "warnings.filterwarnings('ignore')\n",
    "\n",
    "import pandas as pd\n",
    "import numpy as np\n",
    "import heapq\n",
    "from sklearn.metrics.pairwise import cosine_similarity\n",
    "from scipy.sparse import coo_matrix"
   ]
  },
  {
   "cell_type": "markdown",
   "metadata": {},
   "source": [
    "## Load Datasets"
   ]
  },
  {
   "cell_type": "code",
   "execution_count": 2,
   "metadata": {
    "collapsed": true
   },
   "outputs": [],
   "source": [
    "df_order_products__prior = pd.read_csv(\"../data/raw/order_products__prior.csv\")\n",
    "df_order_products__train = pd.read_csv(\"../data/raw/order_products__train.csv\")\n",
    "df_orders = pd.read_csv(\"../data/interim/df_orders_clustered.csv\") \n",
    "df_products = pd.read_csv(\"../data/raw/products.csv\")"
   ]
  },
  {
   "cell_type": "markdown",
   "metadata": {},
   "source": [
    "## Data Preparation\n",
    "\n",
    "### User basket products"
   ]
  },
  {
   "cell_type": "code",
   "execution_count": 3,
   "metadata": {},
   "outputs": [
    {
     "data": {
      "text/html": [
       "<div>\n",
       "<style>\n",
       "    .dataframe thead tr:only-child th {\n",
       "        text-align: right;\n",
       "    }\n",
       "\n",
       "    .dataframe thead th {\n",
       "        text-align: left;\n",
       "    }\n",
       "\n",
       "    .dataframe tbody tr th {\n",
       "        vertical-align: top;\n",
       "    }\n",
       "</style>\n",
       "<table border=\"1\" class=\"dataframe\">\n",
       "  <thead>\n",
       "    <tr style=\"text-align: right;\">\n",
       "      <th></th>\n",
       "      <th>index</th>\n",
       "      <th>order_id</th>\n",
       "      <th>user_id</th>\n",
       "      <th>eval_set</th>\n",
       "      <th>order_number</th>\n",
       "      <th>order_dow</th>\n",
       "      <th>order_hour_of_day</th>\n",
       "      <th>days_since_prior_order</th>\n",
       "      <th>cluster</th>\n",
       "    </tr>\n",
       "  </thead>\n",
       "  <tbody>\n",
       "    <tr>\n",
       "      <th>0</th>\n",
       "      <td>10</td>\n",
       "      <td>1187899</td>\n",
       "      <td>1</td>\n",
       "      <td>train</td>\n",
       "      <td>11</td>\n",
       "      <td>4</td>\n",
       "      <td>8</td>\n",
       "      <td>14.0</td>\n",
       "      <td>0</td>\n",
       "    </tr>\n",
       "    <tr>\n",
       "      <th>1</th>\n",
       "      <td>25</td>\n",
       "      <td>1492625</td>\n",
       "      <td>2</td>\n",
       "      <td>train</td>\n",
       "      <td>15</td>\n",
       "      <td>1</td>\n",
       "      <td>11</td>\n",
       "      <td>30.0</td>\n",
       "      <td>0</td>\n",
       "    </tr>\n",
       "    <tr>\n",
       "      <th>2</th>\n",
       "      <td>49</td>\n",
       "      <td>2196797</td>\n",
       "      <td>5</td>\n",
       "      <td>train</td>\n",
       "      <td>5</td>\n",
       "      <td>0</td>\n",
       "      <td>11</td>\n",
       "      <td>6.0</td>\n",
       "      <td>0</td>\n",
       "    </tr>\n",
       "    <tr>\n",
       "      <th>3</th>\n",
       "      <td>74</td>\n",
       "      <td>525192</td>\n",
       "      <td>7</td>\n",
       "      <td>train</td>\n",
       "      <td>21</td>\n",
       "      <td>2</td>\n",
       "      <td>11</td>\n",
       "      <td>6.0</td>\n",
       "      <td>0</td>\n",
       "    </tr>\n",
       "    <tr>\n",
       "      <th>4</th>\n",
       "      <td>78</td>\n",
       "      <td>880375</td>\n",
       "      <td>8</td>\n",
       "      <td>train</td>\n",
       "      <td>4</td>\n",
       "      <td>1</td>\n",
       "      <td>14</td>\n",
       "      <td>10.0</td>\n",
       "      <td>0</td>\n",
       "    </tr>\n",
       "  </tbody>\n",
       "</table>\n",
       "</div>"
      ],
      "text/plain": [
       "   index  order_id  user_id eval_set  order_number  order_dow  \\\n",
       "0     10   1187899        1    train            11          4   \n",
       "1     25   1492625        2    train            15          1   \n",
       "2     49   2196797        5    train             5          0   \n",
       "3     74    525192        7    train            21          2   \n",
       "4     78    880375        8    train             4          1   \n",
       "\n",
       "   order_hour_of_day  days_since_prior_order  cluster  \n",
       "0                  8                    14.0        0  \n",
       "1                 11                    30.0        0  \n",
       "2                 11                     6.0        0  \n",
       "3                 11                     6.0        0  \n",
       "4                 14                    10.0        0  "
      ]
     },
     "execution_count": 3,
     "metadata": {},
     "output_type": "execute_result"
    }
   ],
   "source": [
    "df_orders_test = df_orders.loc[(df_orders.eval_set == \"train\")].reset_index()\n",
    "df_orders_test.head()"
   ]
  },
  {
   "cell_type": "code",
   "execution_count": 4,
   "metadata": {},
   "outputs": [
    {
     "data": {
      "text/plain": [
       "(131209, 9)"
      ]
     },
     "execution_count": 4,
     "metadata": {},
     "output_type": "execute_result"
    }
   ],
   "source": [
    "df_orders_test.shape"
   ]
  },
  {
   "cell_type": "code",
   "execution_count": 5,
   "metadata": {},
   "outputs": [
    {
     "data": {
      "text/html": [
       "<div>\n",
       "<style>\n",
       "    .dataframe thead tr:only-child th {\n",
       "        text-align: right;\n",
       "    }\n",
       "\n",
       "    .dataframe thead th {\n",
       "        text-align: left;\n",
       "    }\n",
       "\n",
       "    .dataframe tbody tr th {\n",
       "        vertical-align: top;\n",
       "    }\n",
       "</style>\n",
       "<table border=\"1\" class=\"dataframe\">\n",
       "  <thead>\n",
       "    <tr style=\"text-align: right;\">\n",
       "      <th></th>\n",
       "      <th>order_id</th>\n",
       "      <th>user_id</th>\n",
       "      <th>cluster</th>\n",
       "    </tr>\n",
       "  </thead>\n",
       "  <tbody>\n",
       "    <tr>\n",
       "      <th>0</th>\n",
       "      <td>1187899</td>\n",
       "      <td>1</td>\n",
       "      <td>0</td>\n",
       "    </tr>\n",
       "    <tr>\n",
       "      <th>1</th>\n",
       "      <td>1492625</td>\n",
       "      <td>2</td>\n",
       "      <td>0</td>\n",
       "    </tr>\n",
       "    <tr>\n",
       "      <th>2</th>\n",
       "      <td>2196797</td>\n",
       "      <td>5</td>\n",
       "      <td>0</td>\n",
       "    </tr>\n",
       "    <tr>\n",
       "      <th>3</th>\n",
       "      <td>525192</td>\n",
       "      <td>7</td>\n",
       "      <td>0</td>\n",
       "    </tr>\n",
       "    <tr>\n",
       "      <th>4</th>\n",
       "      <td>880375</td>\n",
       "      <td>8</td>\n",
       "      <td>0</td>\n",
       "    </tr>\n",
       "  </tbody>\n",
       "</table>\n",
       "</div>"
      ],
      "text/plain": [
       "   order_id  user_id  cluster\n",
       "0   1187899        1        0\n",
       "1   1492625        2        0\n",
       "2   2196797        5        0\n",
       "3    525192        7        0\n",
       "4    880375        8        0"
      ]
     },
     "execution_count": 5,
     "metadata": {},
     "output_type": "execute_result"
    }
   ],
   "source": [
    "df_orders_test = df_orders_test[[\"order_id\", \"user_id\", 'cluster']]\n",
    "df_orders_test.head()"
   ]
  },
  {
   "cell_type": "code",
   "execution_count": 6,
   "metadata": {},
   "outputs": [
    {
     "data": {
      "text/html": [
       "<div>\n",
       "<style>\n",
       "    .dataframe thead tr:only-child th {\n",
       "        text-align: right;\n",
       "    }\n",
       "\n",
       "    .dataframe thead th {\n",
       "        text-align: left;\n",
       "    }\n",
       "\n",
       "    .dataframe tbody tr th {\n",
       "        vertical-align: top;\n",
       "    }\n",
       "</style>\n",
       "<table border=\"1\" class=\"dataframe\">\n",
       "  <thead>\n",
       "    <tr style=\"text-align: right;\">\n",
       "      <th></th>\n",
       "      <th>order_id</th>\n",
       "      <th>product_id</th>\n",
       "    </tr>\n",
       "  </thead>\n",
       "  <tbody>\n",
       "    <tr>\n",
       "      <th>0</th>\n",
       "      <td>1</td>\n",
       "      <td>49302</td>\n",
       "    </tr>\n",
       "    <tr>\n",
       "      <th>1</th>\n",
       "      <td>1</td>\n",
       "      <td>11109</td>\n",
       "    </tr>\n",
       "    <tr>\n",
       "      <th>2</th>\n",
       "      <td>1</td>\n",
       "      <td>10246</td>\n",
       "    </tr>\n",
       "    <tr>\n",
       "      <th>3</th>\n",
       "      <td>1</td>\n",
       "      <td>49683</td>\n",
       "    </tr>\n",
       "    <tr>\n",
       "      <th>4</th>\n",
       "      <td>1</td>\n",
       "      <td>43633</td>\n",
       "    </tr>\n",
       "  </tbody>\n",
       "</table>\n",
       "</div>"
      ],
      "text/plain": [
       "   order_id  product_id\n",
       "0         1       49302\n",
       "1         1       11109\n",
       "2         1       10246\n",
       "3         1       49683\n",
       "4         1       43633"
      ]
     },
     "execution_count": 6,
     "metadata": {},
     "output_type": "execute_result"
    }
   ],
   "source": [
    "df_test = df_order_products__train[[\"order_id\", \"product_id\"]]\n",
    "df_test.head()"
   ]
  },
  {
   "cell_type": "code",
   "execution_count": 7,
   "metadata": {},
   "outputs": [
    {
     "data": {
      "text/plain": [
       "(1384617, 2)"
      ]
     },
     "execution_count": 7,
     "metadata": {},
     "output_type": "execute_result"
    }
   ],
   "source": [
    "df_test.shape"
   ]
  },
  {
   "cell_type": "code",
   "execution_count": 8,
   "metadata": {},
   "outputs": [
    {
     "data": {
      "text/html": [
       "<div>\n",
       "<style>\n",
       "    .dataframe thead tr:only-child th {\n",
       "        text-align: right;\n",
       "    }\n",
       "\n",
       "    .dataframe thead th {\n",
       "        text-align: left;\n",
       "    }\n",
       "\n",
       "    .dataframe tbody tr th {\n",
       "        vertical-align: top;\n",
       "    }\n",
       "</style>\n",
       "<table border=\"1\" class=\"dataframe\">\n",
       "  <thead>\n",
       "    <tr style=\"text-align: right;\">\n",
       "      <th></th>\n",
       "      <th>order_id</th>\n",
       "      <th>products</th>\n",
       "    </tr>\n",
       "  </thead>\n",
       "  <tbody>\n",
       "    <tr>\n",
       "      <th>0</th>\n",
       "      <td>1</td>\n",
       "      <td>[49302, 11109, 10246, 49683, 43633, 13176, 472...</td>\n",
       "    </tr>\n",
       "    <tr>\n",
       "      <th>1</th>\n",
       "      <td>36</td>\n",
       "      <td>[39612, 19660, 49235, 43086, 46620, 34497, 486...</td>\n",
       "    </tr>\n",
       "    <tr>\n",
       "      <th>2</th>\n",
       "      <td>38</td>\n",
       "      <td>[11913, 18159, 4461, 21616, 23622, 32433, 2884...</td>\n",
       "    </tr>\n",
       "    <tr>\n",
       "      <th>3</th>\n",
       "      <td>96</td>\n",
       "      <td>[20574, 30391, 40706, 25610, 27966, 24489, 39275]</td>\n",
       "    </tr>\n",
       "    <tr>\n",
       "      <th>4</th>\n",
       "      <td>98</td>\n",
       "      <td>[8859, 19731, 43654, 13176, 4357, 37664, 34065...</td>\n",
       "    </tr>\n",
       "  </tbody>\n",
       "</table>\n",
       "</div>"
      ],
      "text/plain": [
       "   order_id                                           products\n",
       "0         1  [49302, 11109, 10246, 49683, 43633, 13176, 472...\n",
       "1        36  [39612, 19660, 49235, 43086, 46620, 34497, 486...\n",
       "2        38  [11913, 18159, 4461, 21616, 23622, 32433, 2884...\n",
       "3        96  [20574, 30391, 40706, 25610, 27966, 24489, 39275]\n",
       "4        98  [8859, 19731, 43654, 13176, 4357, 37664, 34065..."
      ]
     },
     "execution_count": 8,
     "metadata": {},
     "output_type": "execute_result"
    }
   ],
   "source": [
    "df_test = df_test.groupby(\"order_id\")[\"product_id\"]\\\n",
    "                         .apply(list).reset_index().rename(columns={\"product_id\": \"products\"})\n",
    "    \n",
    "df_test.head()"
   ]
  },
  {
   "cell_type": "code",
   "execution_count": 9,
   "metadata": {},
   "outputs": [
    {
     "data": {
      "text/plain": [
       "(131209, 2)"
      ]
     },
     "execution_count": 9,
     "metadata": {},
     "output_type": "execute_result"
    }
   ],
   "source": [
    "df_test.shape"
   ]
  },
  {
   "cell_type": "code",
   "execution_count": 10,
   "metadata": {},
   "outputs": [
    {
     "data": {
      "text/html": [
       "<div>\n",
       "<style>\n",
       "    .dataframe thead tr:only-child th {\n",
       "        text-align: right;\n",
       "    }\n",
       "\n",
       "    .dataframe thead th {\n",
       "        text-align: left;\n",
       "    }\n",
       "\n",
       "    .dataframe tbody tr th {\n",
       "        vertical-align: top;\n",
       "    }\n",
       "</style>\n",
       "<table border=\"1\" class=\"dataframe\">\n",
       "  <thead>\n",
       "    <tr style=\"text-align: right;\">\n",
       "      <th></th>\n",
       "      <th>order_id</th>\n",
       "      <th>user_id</th>\n",
       "      <th>cluster</th>\n",
       "      <th>products</th>\n",
       "    </tr>\n",
       "  </thead>\n",
       "  <tbody>\n",
       "    <tr>\n",
       "      <th>0</th>\n",
       "      <td>1187899</td>\n",
       "      <td>1</td>\n",
       "      <td>0</td>\n",
       "      <td>[196, 25133, 38928, 26405, 39657, 10258, 13032...</td>\n",
       "    </tr>\n",
       "    <tr>\n",
       "      <th>1</th>\n",
       "      <td>1492625</td>\n",
       "      <td>2</td>\n",
       "      <td>0</td>\n",
       "      <td>[22963, 7963, 16589, 32792, 41787, 22825, 1364...</td>\n",
       "    </tr>\n",
       "    <tr>\n",
       "      <th>2</th>\n",
       "      <td>2196797</td>\n",
       "      <td>5</td>\n",
       "      <td>0</td>\n",
       "      <td>[15349, 19057, 16185, 21413, 20843, 20114, 482...</td>\n",
       "    </tr>\n",
       "    <tr>\n",
       "      <th>3</th>\n",
       "      <td>525192</td>\n",
       "      <td>7</td>\n",
       "      <td>0</td>\n",
       "      <td>[12053, 47272, 37999, 13198, 43967, 40852, 176...</td>\n",
       "    </tr>\n",
       "    <tr>\n",
       "      <th>4</th>\n",
       "      <td>880375</td>\n",
       "      <td>8</td>\n",
       "      <td>0</td>\n",
       "      <td>[15937, 5539, 10960, 23165, 22247, 4853, 27104...</td>\n",
       "    </tr>\n",
       "  </tbody>\n",
       "</table>\n",
       "</div>"
      ],
      "text/plain": [
       "   order_id  user_id  cluster  \\\n",
       "0   1187899        1        0   \n",
       "1   1492625        2        0   \n",
       "2   2196797        5        0   \n",
       "3    525192        7        0   \n",
       "4    880375        8        0   \n",
       "\n",
       "                                            products  \n",
       "0  [196, 25133, 38928, 26405, 39657, 10258, 13032...  \n",
       "1  [22963, 7963, 16589, 32792, 41787, 22825, 1364...  \n",
       "2  [15349, 19057, 16185, 21413, 20843, 20114, 482...  \n",
       "3  [12053, 47272, 37999, 13198, 43967, 40852, 176...  \n",
       "4  [15937, 5539, 10960, 23165, 22247, 4853, 27104...  "
      ]
     },
     "execution_count": 10,
     "metadata": {},
     "output_type": "execute_result"
    }
   ],
   "source": [
    "df_test = pd.merge(df_orders_test, df_test, on=\"order_id\")\n",
    "df_test.head()"
   ]
  },
  {
   "cell_type": "code",
   "execution_count": 11,
   "metadata": {},
   "outputs": [
    {
     "data": {
      "text/html": [
       "<div>\n",
       "<style>\n",
       "    .dataframe thead tr:only-child th {\n",
       "        text-align: right;\n",
       "    }\n",
       "\n",
       "    .dataframe thead th {\n",
       "        text-align: left;\n",
       "    }\n",
       "\n",
       "    .dataframe tbody tr th {\n",
       "        vertical-align: top;\n",
       "    }\n",
       "</style>\n",
       "<table border=\"1\" class=\"dataframe\">\n",
       "  <thead>\n",
       "    <tr style=\"text-align: right;\">\n",
       "      <th></th>\n",
       "      <th>user_id</th>\n",
       "      <th>products</th>\n",
       "      <th>cluster</th>\n",
       "    </tr>\n",
       "  </thead>\n",
       "  <tbody>\n",
       "    <tr>\n",
       "      <th>0</th>\n",
       "      <td>1</td>\n",
       "      <td>[196, 25133, 38928, 26405, 39657, 10258, 13032...</td>\n",
       "      <td>0</td>\n",
       "    </tr>\n",
       "    <tr>\n",
       "      <th>1</th>\n",
       "      <td>2</td>\n",
       "      <td>[22963, 7963, 16589, 32792, 41787, 22825, 1364...</td>\n",
       "      <td>0</td>\n",
       "    </tr>\n",
       "    <tr>\n",
       "      <th>2</th>\n",
       "      <td>5</td>\n",
       "      <td>[15349, 19057, 16185, 21413, 20843, 20114, 482...</td>\n",
       "      <td>0</td>\n",
       "    </tr>\n",
       "    <tr>\n",
       "      <th>3</th>\n",
       "      <td>7</td>\n",
       "      <td>[12053, 47272, 37999, 13198, 43967, 40852, 176...</td>\n",
       "      <td>0</td>\n",
       "    </tr>\n",
       "    <tr>\n",
       "      <th>4</th>\n",
       "      <td>8</td>\n",
       "      <td>[15937, 5539, 10960, 23165, 22247, 4853, 27104...</td>\n",
       "      <td>0</td>\n",
       "    </tr>\n",
       "  </tbody>\n",
       "</table>\n",
       "</div>"
      ],
      "text/plain": [
       "   user_id                                           products  cluster\n",
       "0        1  [196, 25133, 38928, 26405, 39657, 10258, 13032...        0\n",
       "1        2  [22963, 7963, 16589, 32792, 41787, 22825, 1364...        0\n",
       "2        5  [15349, 19057, 16185, 21413, 20843, 20114, 482...        0\n",
       "3        7  [12053, 47272, 37999, 13198, 43967, 40852, 176...        0\n",
       "4        8  [15937, 5539, 10960, 23165, 22247, 4853, 27104...        0"
      ]
     },
     "execution_count": 11,
     "metadata": {},
     "output_type": "execute_result"
    }
   ],
   "source": [
    "df_test = df_test[[\"user_id\", \"products\", \"cluster\"]]\n",
    "df_test.head()"
   ]
  },
  {
   "cell_type": "code",
   "execution_count": 12,
   "metadata": {},
   "outputs": [
    {
     "data": {
      "text/plain": [
       "131209"
      ]
     },
     "execution_count": 12,
     "metadata": {},
     "output_type": "execute_result"
    }
   ],
   "source": [
    "len(df_test)"
   ]
  },
  {
   "cell_type": "markdown",
   "metadata": {},
   "source": [
    "### Users prior purchases per product"
   ]
  },
  {
   "cell_type": "code",
   "execution_count": 13,
   "metadata": {},
   "outputs": [
    {
     "data": {
      "text/html": [
       "<div>\n",
       "<style>\n",
       "    .dataframe thead tr:only-child th {\n",
       "        text-align: right;\n",
       "    }\n",
       "\n",
       "    .dataframe thead th {\n",
       "        text-align: left;\n",
       "    }\n",
       "\n",
       "    .dataframe tbody tr th {\n",
       "        vertical-align: top;\n",
       "    }\n",
       "</style>\n",
       "<table border=\"1\" class=\"dataframe\">\n",
       "  <thead>\n",
       "    <tr style=\"text-align: right;\">\n",
       "      <th></th>\n",
       "      <th>order_id</th>\n",
       "      <th>user_id</th>\n",
       "      <th>eval_set</th>\n",
       "      <th>order_number</th>\n",
       "      <th>order_dow</th>\n",
       "      <th>order_hour_of_day</th>\n",
       "      <th>days_since_prior_order</th>\n",
       "      <th>cluster</th>\n",
       "    </tr>\n",
       "  </thead>\n",
       "  <tbody>\n",
       "    <tr>\n",
       "      <th>0</th>\n",
       "      <td>2539329</td>\n",
       "      <td>1</td>\n",
       "      <td>prior</td>\n",
       "      <td>1</td>\n",
       "      <td>2</td>\n",
       "      <td>8</td>\n",
       "      <td>NaN</td>\n",
       "      <td>0</td>\n",
       "    </tr>\n",
       "    <tr>\n",
       "      <th>1</th>\n",
       "      <td>2398795</td>\n",
       "      <td>1</td>\n",
       "      <td>prior</td>\n",
       "      <td>2</td>\n",
       "      <td>3</td>\n",
       "      <td>7</td>\n",
       "      <td>15.0</td>\n",
       "      <td>0</td>\n",
       "    </tr>\n",
       "    <tr>\n",
       "      <th>2</th>\n",
       "      <td>473747</td>\n",
       "      <td>1</td>\n",
       "      <td>prior</td>\n",
       "      <td>3</td>\n",
       "      <td>3</td>\n",
       "      <td>12</td>\n",
       "      <td>21.0</td>\n",
       "      <td>0</td>\n",
       "    </tr>\n",
       "    <tr>\n",
       "      <th>3</th>\n",
       "      <td>2254736</td>\n",
       "      <td>1</td>\n",
       "      <td>prior</td>\n",
       "      <td>4</td>\n",
       "      <td>4</td>\n",
       "      <td>7</td>\n",
       "      <td>29.0</td>\n",
       "      <td>0</td>\n",
       "    </tr>\n",
       "    <tr>\n",
       "      <th>4</th>\n",
       "      <td>431534</td>\n",
       "      <td>1</td>\n",
       "      <td>prior</td>\n",
       "      <td>5</td>\n",
       "      <td>4</td>\n",
       "      <td>15</td>\n",
       "      <td>28.0</td>\n",
       "      <td>0</td>\n",
       "    </tr>\n",
       "  </tbody>\n",
       "</table>\n",
       "</div>"
      ],
      "text/plain": [
       "   order_id  user_id eval_set  order_number  order_dow  order_hour_of_day  \\\n",
       "0   2539329        1    prior             1          2                  8   \n",
       "1   2398795        1    prior             2          3                  7   \n",
       "2    473747        1    prior             3          3                 12   \n",
       "3   2254736        1    prior             4          4                  7   \n",
       "4    431534        1    prior             5          4                 15   \n",
       "\n",
       "   days_since_prior_order  cluster  \n",
       "0                     NaN        0  \n",
       "1                    15.0        0  \n",
       "2                    21.0        0  \n",
       "3                    29.0        0  \n",
       "4                    28.0        0  "
      ]
     },
     "execution_count": 13,
     "metadata": {},
     "output_type": "execute_result"
    }
   ],
   "source": [
    "df_orders_train = df_orders.loc[df_orders.eval_set == \"prior\"]\n",
    "df_orders_train.head()"
   ]
  },
  {
   "cell_type": "code",
   "execution_count": 14,
   "metadata": {},
   "outputs": [
    {
     "data": {
      "text/plain": [
       "(3214874, 8)"
      ]
     },
     "execution_count": 14,
     "metadata": {},
     "output_type": "execute_result"
    }
   ],
   "source": [
    "df_orders_train.shape"
   ]
  },
  {
   "cell_type": "code",
   "execution_count": 15,
   "metadata": {},
   "outputs": [
    {
     "data": {
      "text/html": [
       "<div>\n",
       "<style>\n",
       "    .dataframe thead tr:only-child th {\n",
       "        text-align: right;\n",
       "    }\n",
       "\n",
       "    .dataframe thead th {\n",
       "        text-align: left;\n",
       "    }\n",
       "\n",
       "    .dataframe tbody tr th {\n",
       "        vertical-align: top;\n",
       "    }\n",
       "</style>\n",
       "<table border=\"1\" class=\"dataframe\">\n",
       "  <thead>\n",
       "    <tr style=\"text-align: right;\">\n",
       "      <th></th>\n",
       "      <th>order_id</th>\n",
       "      <th>user_id</th>\n",
       "      <th>cluster</th>\n",
       "    </tr>\n",
       "  </thead>\n",
       "  <tbody>\n",
       "    <tr>\n",
       "      <th>0</th>\n",
       "      <td>2539329</td>\n",
       "      <td>1</td>\n",
       "      <td>0</td>\n",
       "    </tr>\n",
       "    <tr>\n",
       "      <th>1</th>\n",
       "      <td>2398795</td>\n",
       "      <td>1</td>\n",
       "      <td>0</td>\n",
       "    </tr>\n",
       "    <tr>\n",
       "      <th>2</th>\n",
       "      <td>473747</td>\n",
       "      <td>1</td>\n",
       "      <td>0</td>\n",
       "    </tr>\n",
       "    <tr>\n",
       "      <th>3</th>\n",
       "      <td>2254736</td>\n",
       "      <td>1</td>\n",
       "      <td>0</td>\n",
       "    </tr>\n",
       "    <tr>\n",
       "      <th>4</th>\n",
       "      <td>431534</td>\n",
       "      <td>1</td>\n",
       "      <td>0</td>\n",
       "    </tr>\n",
       "  </tbody>\n",
       "</table>\n",
       "</div>"
      ],
      "text/plain": [
       "   order_id  user_id  cluster\n",
       "0   2539329        1        0\n",
       "1   2398795        1        0\n",
       "2    473747        1        0\n",
       "3   2254736        1        0\n",
       "4    431534        1        0"
      ]
     },
     "execution_count": 15,
     "metadata": {},
     "output_type": "execute_result"
    }
   ],
   "source": [
    "df_orders_train = df_orders_train[[\"order_id\", \"user_id\", \"cluster\"]]\n",
    "df_orders_train.head()"
   ]
  },
  {
   "cell_type": "code",
   "execution_count": 16,
   "metadata": {},
   "outputs": [
    {
     "data": {
      "text/html": [
       "<div>\n",
       "<style>\n",
       "    .dataframe thead tr:only-child th {\n",
       "        text-align: right;\n",
       "    }\n",
       "\n",
       "    .dataframe thead th {\n",
       "        text-align: left;\n",
       "    }\n",
       "\n",
       "    .dataframe tbody tr th {\n",
       "        vertical-align: top;\n",
       "    }\n",
       "</style>\n",
       "<table border=\"1\" class=\"dataframe\">\n",
       "  <thead>\n",
       "    <tr style=\"text-align: right;\">\n",
       "      <th></th>\n",
       "      <th>order_id</th>\n",
       "      <th>user_id</th>\n",
       "      <th>cluster</th>\n",
       "      <th>product_id</th>\n",
       "    </tr>\n",
       "  </thead>\n",
       "  <tbody>\n",
       "    <tr>\n",
       "      <th>0</th>\n",
       "      <td>2539329</td>\n",
       "      <td>1</td>\n",
       "      <td>0</td>\n",
       "      <td>196</td>\n",
       "    </tr>\n",
       "    <tr>\n",
       "      <th>1</th>\n",
       "      <td>2539329</td>\n",
       "      <td>1</td>\n",
       "      <td>0</td>\n",
       "      <td>14084</td>\n",
       "    </tr>\n",
       "    <tr>\n",
       "      <th>2</th>\n",
       "      <td>2539329</td>\n",
       "      <td>1</td>\n",
       "      <td>0</td>\n",
       "      <td>12427</td>\n",
       "    </tr>\n",
       "    <tr>\n",
       "      <th>3</th>\n",
       "      <td>2539329</td>\n",
       "      <td>1</td>\n",
       "      <td>0</td>\n",
       "      <td>26088</td>\n",
       "    </tr>\n",
       "    <tr>\n",
       "      <th>4</th>\n",
       "      <td>2539329</td>\n",
       "      <td>1</td>\n",
       "      <td>0</td>\n",
       "      <td>26405</td>\n",
       "    </tr>\n",
       "  </tbody>\n",
       "</table>\n",
       "</div>"
      ],
      "text/plain": [
       "   order_id  user_id  cluster  product_id\n",
       "0   2539329        1        0         196\n",
       "1   2539329        1        0       14084\n",
       "2   2539329        1        0       12427\n",
       "3   2539329        1        0       26088\n",
       "4   2539329        1        0       26405"
      ]
     },
     "execution_count": 16,
     "metadata": {},
     "output_type": "execute_result"
    }
   ],
   "source": [
    "df_train = pd.merge(df_orders_train, df_order_products__prior[[\"order_id\", \"product_id\"]],\\\n",
    "                                 on=\"order_id\")\n",
    "df_train.head()"
   ]
  },
  {
   "cell_type": "code",
   "execution_count": 17,
   "metadata": {},
   "outputs": [
    {
     "data": {
      "text/html": [
       "<div>\n",
       "<style>\n",
       "    .dataframe thead tr:only-child th {\n",
       "        text-align: right;\n",
       "    }\n",
       "\n",
       "    .dataframe thead th {\n",
       "        text-align: left;\n",
       "    }\n",
       "\n",
       "    .dataframe tbody tr th {\n",
       "        vertical-align: top;\n",
       "    }\n",
       "</style>\n",
       "<table border=\"1\" class=\"dataframe\">\n",
       "  <thead>\n",
       "    <tr style=\"text-align: right;\">\n",
       "      <th></th>\n",
       "      <th>user_id</th>\n",
       "      <th>product_id</th>\n",
       "      <th>cluster</th>\n",
       "      <th>quantity</th>\n",
       "    </tr>\n",
       "  </thead>\n",
       "  <tbody>\n",
       "    <tr>\n",
       "      <th>0</th>\n",
       "      <td>1</td>\n",
       "      <td>196</td>\n",
       "      <td>0</td>\n",
       "      <td>10</td>\n",
       "    </tr>\n",
       "    <tr>\n",
       "      <th>1</th>\n",
       "      <td>1</td>\n",
       "      <td>10258</td>\n",
       "      <td>0</td>\n",
       "      <td>9</td>\n",
       "    </tr>\n",
       "    <tr>\n",
       "      <th>2</th>\n",
       "      <td>1</td>\n",
       "      <td>10326</td>\n",
       "      <td>0</td>\n",
       "      <td>1</td>\n",
       "    </tr>\n",
       "    <tr>\n",
       "      <th>3</th>\n",
       "      <td>1</td>\n",
       "      <td>12427</td>\n",
       "      <td>0</td>\n",
       "      <td>10</td>\n",
       "    </tr>\n",
       "    <tr>\n",
       "      <th>4</th>\n",
       "      <td>1</td>\n",
       "      <td>13032</td>\n",
       "      <td>0</td>\n",
       "      <td>3</td>\n",
       "    </tr>\n",
       "  </tbody>\n",
       "</table>\n",
       "</div>"
      ],
      "text/plain": [
       "   user_id  product_id  cluster  quantity\n",
       "0        1         196        0        10\n",
       "1        1       10258        0         9\n",
       "2        1       10326        0         1\n",
       "3        1       12427        0        10\n",
       "4        1       13032        0         3"
      ]
     },
     "execution_count": 17,
     "metadata": {},
     "output_type": "execute_result"
    }
   ],
   "source": [
    "df_train = df_train[[\"user_id\", \"product_id\", \"cluster\"]]\n",
    "df_train = df_train.groupby([\"user_id\", \"product_id\", \"cluster\"])\\\n",
    "                                                      .size().reset_index().rename(columns={0:\"quantity\"})\n",
    "df_train.head() "
   ]
  },
  {
   "cell_type": "code",
   "execution_count": 18,
   "metadata": {},
   "outputs": [
    {
     "data": {
      "text/plain": [
       "(13307953, 4)"
      ]
     },
     "execution_count": 18,
     "metadata": {},
     "output_type": "execute_result"
    }
   ],
   "source": [
    "df_train.shape"
   ]
  },
  {
   "cell_type": "code",
   "execution_count": 19,
   "metadata": {},
   "outputs": [
    {
     "name": "stdout",
     "output_type": "stream",
     "text": [
      "<class 'pandas.core.frame.DataFrame'>\n",
      "RangeIndex: 13307953 entries, 0 to 13307952\n",
      "Data columns (total 4 columns):\n",
      "user_id       int64\n",
      "product_id    int64\n",
      "cluster       int64\n",
      "quantity      int64\n",
      "dtypes: int64(4)\n",
      "memory usage: 406.1 MB\n"
     ]
    }
   ],
   "source": [
    "df_train.info()"
   ]
  },
  {
   "cell_type": "markdown",
   "metadata": {},
   "source": [
    "## Utility Matrices"
   ]
  },
  {
   "cell_type": "code",
   "execution_count": 20,
   "metadata": {
    "collapsed": true
   },
   "outputs": [],
   "source": [
    "clusternumber = len(df_train.cluster.unique())"
   ]
  },
  {
   "cell_type": "code",
   "execution_count": 21,
   "metadata": {
    "collapsed": true
   },
   "outputs": [],
   "source": [
    "cluster = []\n",
    "\n",
    "for i in range(clusternumber):\n",
    "    cluster.append(df_train.loc[df_train['cluster'] == i].drop('cluster',axis=1))"
   ]
  },
  {
   "cell_type": "code",
   "execution_count": 22,
   "metadata": {
    "collapsed": true
   },
   "outputs": [],
   "source": [
    "for i in range(clusternumber):\n",
    "    cluster[i][\"user_id\"] = cluster[i][\"user_id\"].astype(\"category\")\n",
    "    cluster[i][\"product_id\"] = cluster[i][\"product_id\"].astype(\"category\")"
   ]
  },
  {
   "cell_type": "code",
   "execution_count": 23,
   "metadata": {
    "collapsed": true
   },
   "outputs": [],
   "source": [
    "utility_matrix = []\n",
    "\n",
    "for i in range(clusternumber):\n",
    "    utility_matrix.append(coo_matrix((cluster[i][\"quantity\"],\n",
    "                                     (cluster[i][\"product_id\"].cat.codes.copy(),\n",
    "                                      cluster[i][\"user_id\"].cat.codes.copy()))))"
   ]
  },
  {
   "cell_type": "code",
   "execution_count": 24,
   "metadata": {},
   "outputs": [
    {
     "name": "stdout",
     "output_type": "stream",
     "text": [
      "Utility matrix 0 shape: (49434, 164459)\n",
      "Utility matrix 1 shape: (35129, 7551)\n",
      "Utility matrix 2 shape: (47065, 34199)\n"
     ]
    }
   ],
   "source": [
    "for i in range(clusternumber):\n",
    "    print(\"Utility matrix {} shape: {}\".format(i,utility_matrix[i].shape))"
   ]
  },
  {
   "cell_type": "markdown",
   "metadata": {},
   "source": [
    "## Popular products and users new products"
   ]
  },
  {
   "cell_type": "code",
   "execution_count": 25,
   "metadata": {},
   "outputs": [
    {
     "data": {
      "text/plain": [
       "[24852, 13176, 21137, 21903, 47209, 47766, 47626, 16797, 26209, 27845]"
      ]
     },
     "execution_count": 25,
     "metadata": {},
     "output_type": "execute_result"
    }
   ],
   "source": [
    "popular_products = list(df_order_products__prior[\"product_id\"].value_counts().head(10).index)\n",
    "\n",
    "popular_products"
   ]
  },
  {
   "cell_type": "code",
   "execution_count": 26,
   "metadata": {},
   "outputs": [
    {
     "name": "stdout",
     "output_type": "stream",
     "text": [
      "Most popular products:\n"
     ]
    },
    {
     "data": {
      "text/plain": [
       "0    Bag of Organic Bananas\n",
       "1              Strawberries\n",
       "2      Organic Strawberries\n",
       "3      Organic Baby Spinach\n",
       "4                    Banana\n",
       "5                     Limes\n",
       "6        Organic Whole Milk\n",
       "7      Organic Hass Avocado\n",
       "8               Large Lemon\n",
       "9           Organic Avocado\n",
       "Name: product_name, dtype: object"
      ]
     },
     "execution_count": 26,
     "metadata": {},
     "output_type": "execute_result"
    }
   ],
   "source": [
    "print(\"Most popular products:\")\n",
    "df_products.product_name.loc[df_products.product_id.isin(popular_products)].reset_index(drop=True)"
   ]
  },
  {
   "cell_type": "code",
   "execution_count": 27,
   "metadata": {
    "collapsed": true
   },
   "outputs": [],
   "source": [
    "utility_matrix_T = []\n",
    "\n",
    "for i in range(clusternumber):\n",
    "    utility_matrix_T.append(utility_matrix[i].T.tocsr())"
   ]
  },
  {
   "cell_type": "code",
   "execution_count": 28,
   "metadata": {
    "collapsed": true
   },
   "outputs": [],
   "source": [
    "users = []\n",
    "\n",
    "for i in range(clusternumber):\n",
    "    users.append({uid:i for i, uid in enumerate(cluster[i][\"user_id\"].cat.categories)})"
   ]
  },
  {
   "cell_type": "code",
   "execution_count": 29,
   "metadata": {
    "collapsed": true
   },
   "outputs": [],
   "source": [
    "products = []\n",
    "\n",
    "for i in range(clusternumber):\n",
    "    products.append(dict(enumerate(cluster[i][\"product_id\"].cat.categories)))"
   ]
  },
  {
   "cell_type": "code",
   "execution_count": 30,
   "metadata": {
    "collapsed": true
   },
   "outputs": [],
   "source": [
    "def past_products(row):\n",
    "    return set([products[row[\"cluster\"]][i] for i in \\\n",
    "                utility_matrix_T[row[\"cluster\"]][users[row[\"cluster\"]][row[\"user_id\"]]].indices]) \n",
    "\n",
    "def new_products(row):\n",
    "    return set(row['products']) - set(row['past_products'])"
   ]
  },
  {
   "cell_type": "code",
   "execution_count": 31,
   "metadata": {},
   "outputs": [
    {
     "data": {
      "text/html": [
       "<div>\n",
       "<style>\n",
       "    .dataframe thead tr:only-child th {\n",
       "        text-align: right;\n",
       "    }\n",
       "\n",
       "    .dataframe thead th {\n",
       "        text-align: left;\n",
       "    }\n",
       "\n",
       "    .dataframe tbody tr th {\n",
       "        vertical-align: top;\n",
       "    }\n",
       "</style>\n",
       "<table border=\"1\" class=\"dataframe\">\n",
       "  <thead>\n",
       "    <tr style=\"text-align: right;\">\n",
       "      <th></th>\n",
       "      <th>user_id</th>\n",
       "      <th>products</th>\n",
       "      <th>cluster</th>\n",
       "      <th>past_products</th>\n",
       "      <th>new_products</th>\n",
       "    </tr>\n",
       "  </thead>\n",
       "  <tbody>\n",
       "    <tr>\n",
       "      <th>0</th>\n",
       "      <td>1</td>\n",
       "      <td>[196, 25133, 38928, 26405, 39657, 10258, 13032...</td>\n",
       "      <td>0</td>\n",
       "      <td>{17122, 196, 14084, 26405, 46149, 13032, 26088...</td>\n",
       "      <td>{27845}</td>\n",
       "    </tr>\n",
       "    <tr>\n",
       "      <th>1</th>\n",
       "      <td>2</td>\n",
       "      <td>[22963, 7963, 16589, 32792, 41787, 22825, 1364...</td>\n",
       "      <td>0</td>\n",
       "      <td>{45066, 2573, 18961, 23, 1559, 32792, 22559, 1...</td>\n",
       "      <td>{5699, 12324, 24838, 12007, 13640, 11913, 3188...</td>\n",
       "    </tr>\n",
       "    <tr>\n",
       "      <th>2</th>\n",
       "      <td>5</td>\n",
       "      <td>[15349, 19057, 16185, 21413, 20843, 20114, 482...</td>\n",
       "      <td>0</td>\n",
       "      <td>{11777, 28289, 40706, 48775, 20754, 6808, 1398...</td>\n",
       "      <td>{20843, 48204, 19057, 20114, 16185}</td>\n",
       "    </tr>\n",
       "    <tr>\n",
       "      <th>3</th>\n",
       "      <td>7</td>\n",
       "      <td>[12053, 47272, 37999, 13198, 43967, 40852, 176...</td>\n",
       "      <td>0</td>\n",
       "      <td>{11520, 35333, 519, 10504, 47623, 45066, 13198...</td>\n",
       "      <td>{12053}</td>\n",
       "    </tr>\n",
       "    <tr>\n",
       "      <th>4</th>\n",
       "      <td>8</td>\n",
       "      <td>[15937, 5539, 10960, 23165, 22247, 4853, 27104...</td>\n",
       "      <td>0</td>\n",
       "      <td>{11136, 8193, 17794, 26882, 39812, 24838, 651,...</td>\n",
       "      <td>{27104, 5539, 31717, 48230, 22247, 41259, 3780...</td>\n",
       "    </tr>\n",
       "  </tbody>\n",
       "</table>\n",
       "</div>"
      ],
      "text/plain": [
       "   user_id                                           products  cluster  \\\n",
       "0        1  [196, 25133, 38928, 26405, 39657, 10258, 13032...        0   \n",
       "1        2  [22963, 7963, 16589, 32792, 41787, 22825, 1364...        0   \n",
       "2        5  [15349, 19057, 16185, 21413, 20843, 20114, 482...        0   \n",
       "3        7  [12053, 47272, 37999, 13198, 43967, 40852, 176...        0   \n",
       "4        8  [15937, 5539, 10960, 23165, 22247, 4853, 27104...        0   \n",
       "\n",
       "                                       past_products  \\\n",
       "0  {17122, 196, 14084, 26405, 46149, 13032, 26088...   \n",
       "1  {45066, 2573, 18961, 23, 1559, 32792, 22559, 1...   \n",
       "2  {11777, 28289, 40706, 48775, 20754, 6808, 1398...   \n",
       "3  {11520, 35333, 519, 10504, 47623, 45066, 13198...   \n",
       "4  {11136, 8193, 17794, 26882, 39812, 24838, 651,...   \n",
       "\n",
       "                                        new_products  \n",
       "0                                            {27845}  \n",
       "1  {5699, 12324, 24838, 12007, 13640, 11913, 3188...  \n",
       "2                {20843, 48204, 19057, 20114, 16185}  \n",
       "3                                            {12053}  \n",
       "4  {27104, 5539, 31717, 48230, 22247, 41259, 3780...  "
      ]
     },
     "execution_count": 31,
     "metadata": {},
     "output_type": "execute_result"
    }
   ],
   "source": [
    "df_test['past_products'] = df_test.apply(past_products, axis=1)\n",
    "df_test['new_products'] = df_test.apply(new_products, axis=1)\n",
    "\n",
    "df_test.head()"
   ]
  },
  {
   "cell_type": "markdown",
   "metadata": {},
   "source": [
    "## Recommendation with user to user similarity"
   ]
  },
  {
   "cell_type": "markdown",
   "metadata": {},
   "source": [
    "#### Example: User ID 1"
   ]
  },
  {
   "cell_type": "markdown",
   "metadata": {},
   "source": [
    "Get cluster"
   ]
  },
  {
   "cell_type": "code",
   "execution_count": 32,
   "metadata": {},
   "outputs": [
    {
     "data": {
      "text/plain": [
       "0"
      ]
     },
     "execution_count": 32,
     "metadata": {},
     "output_type": "execute_result"
    }
   ],
   "source": [
    "user_ex = 1\n",
    "cluster = df_train.cluster.loc[df_train.user_id == user_ex].unique()[0]\n",
    "cluster"
   ]
  },
  {
   "cell_type": "markdown",
   "metadata": {},
   "source": [
    "Get top similar users"
   ]
  },
  {
   "cell_type": "code",
   "execution_count": 33,
   "metadata": {
    "collapsed": true
   },
   "outputs": [],
   "source": [
    "similarities = cosine_similarity(utility_matrix_T[cluster][users[cluster][1]],utility_matrix_T[cluster])"
   ]
  },
  {
   "cell_type": "code",
   "execution_count": 34,
   "metadata": {
    "collapsed": true
   },
   "outputs": [],
   "source": [
    "ids = np.argpartition(similarities[0], -11)[-11:]\n",
    "best = sorted(zip(ids, similarities[0][ids]), key=lambda x: -x[1])[1:]"
   ]
  },
  {
   "cell_type": "code",
   "execution_count": 35,
   "metadata": {},
   "outputs": [
    {
     "data": {
      "text/plain": [
       "array([114419,  90743,  30663,  48978, 109459, 109793, 116893, 116975,\n",
       "         8343, 143364,      0])"
      ]
     },
     "execution_count": 35,
     "metadata": {},
     "output_type": "execute_result"
    }
   ],
   "source": [
    "ids"
   ]
  },
  {
   "cell_type": "code",
   "execution_count": 36,
   "metadata": {},
   "outputs": [
    {
     "data": {
      "text/plain": [
       "[(143364, 0.69954805271423959),\n",
       " (30663, 0.63279465820501035),\n",
       " (109793, 0.62118777059707386),\n",
       " (8343, 0.61769493794340791),\n",
       " (116893, 0.61481644555118409),\n",
       " (116975, 0.61430280375308932),\n",
       " (109459, 0.6088063653416409),\n",
       " (48978, 0.60432645275039742),\n",
       " (90743, 0.59345547322526804),\n",
       " (114419, 0.5756524760966798)]"
      ]
     },
     "execution_count": 36,
     "metadata": {},
     "output_type": "execute_result"
    }
   ],
   "source": [
    "best"
   ]
  },
  {
   "cell_type": "markdown",
   "metadata": {},
   "source": [
    "Let's check if they're really similar"
   ]
  },
  {
   "cell_type": "code",
   "execution_count": 37,
   "metadata": {},
   "outputs": [
    {
     "name": "stdout",
     "output_type": "stream",
     "text": [
      "User products history:\n"
     ]
    },
    {
     "data": {
      "text/plain": [
       "0     Grade A Pasteurized 2% Milkfat Lowfat Cottage ...\n",
       "1                Red Velvet Cupcake Cake & Frosting Mix\n",
       "2                             Men's One Tablets - 30 CT\n",
       "3                         Skin Trip Coconut Moisturizer\n",
       "4                                 Chocolate Cashew Milk\n",
       "5                   Organic Vegetarian Pho Soup Starter\n",
       "6                             Unsweetened Coconut Juice\n",
       "7              Turkey Bacon, Uncured, Cherrywood Smoked\n",
       "8                                  Organic Banana Chips\n",
       "9                     Cheese Natural Sliced Pepper Jack\n",
       "10                        Tortillas, White Corn, Grande\n",
       "11                           Sea Salt Caramel ice Cream\n",
       "12                                 Organic Power Greens\n",
       "13                                   Original Detergent\n",
       "14                        Lotzza Motzza Pepperoni Pizza\n",
       "15    Maximum Absorbency Small/Medium Incontinence U...\n",
       "16                             Whole Grain Hot Dog Buns\n",
       "17                    Organic Steamable Cut Green Beans\n",
       "Name: product_name, dtype: object"
      ]
     },
     "execution_count": 37,
     "metadata": {},
     "output_type": "execute_result"
    }
   ],
   "source": [
    "ex_user_products = set(utility_matrix_T[cluster][ids[-1]].nonzero()[1])\n",
    "print(\"User products history:\")\n",
    "df_products.product_name.loc[df_products.product_id.isin(ex_user_products)].reset_index(drop=True)"
   ]
  },
  {
   "cell_type": "code",
   "execution_count": 38,
   "metadata": {},
   "outputs": [
    {
     "name": "stdout",
     "output_type": "stream",
     "text": [
      "Most similar user products history:\n"
     ]
    },
    {
     "data": {
      "text/plain": [
       "0     Grade A Pasteurized 2% Milkfat Lowfat Cottage ...\n",
       "1                               Organic Unsalted Butter\n",
       "2                       Riserva Ducale Chianti Classico\n",
       "3                         Skin Trip Coconut Moisturizer\n",
       "4                   Organic Vegetarian Pho Soup Starter\n",
       "5                                  Dry-Cured Prosciutto\n",
       "6                 Instant Coffee Crystals Classic Decaf\n",
       "7         Veggie & Fruit Snacks, Carrot, Mango & Orange\n",
       "8                                  Organic Banana Chips\n",
       "9       Fruit Naturals Cherry Mixed Fruit in 100% Juice\n",
       "10                 Micro Brewed Black Cherry Cream Soda\n",
       "11                      San Marzano Tomatoes With Basil\n",
       "12            Organic Green Tea With Pomegranate & Acai\n",
       "13                                    Classic Mouthwash\n",
       "14                             Whole Grain Hot Dog Buns\n",
       "Name: product_name, dtype: object"
      ]
     },
     "execution_count": 38,
     "metadata": {},
     "output_type": "execute_result"
    }
   ],
   "source": [
    "similar_user_products = set(utility_matrix_T[cluster][ids[-2]].nonzero()[1])\n",
    "print(\"Most similar user products history:\")\n",
    "df_products.product_name.loc[df_products.product_id.isin(similar_user_products)].reset_index(drop=True)"
   ]
  },
  {
   "cell_type": "code",
   "execution_count": 39,
   "metadata": {},
   "outputs": [
    {
     "name": "stdout",
     "output_type": "stream",
     "text": [
      "Recall: 0.3333333333333333\n"
     ]
    }
   ],
   "source": [
    "print(\"Recall:\",len(similar_user_products.intersection(ex_user_products)) / len(similar_user_products))"
   ]
  },
  {
   "cell_type": "markdown",
   "metadata": {},
   "source": [
    "Quite similar products!\n",
    "\n",
    "Let's get now the recommendations"
   ]
  },
  {
   "cell_type": "code",
   "execution_count": 40,
   "metadata": {
    "collapsed": true
   },
   "outputs": [],
   "source": [
    "ids = ids[:-1]"
   ]
  },
  {
   "cell_type": "code",
   "execution_count": 41,
   "metadata": {},
   "outputs": [],
   "source": [
    "if len(df_test.products.loc[df_test.user_id == user_ex])>0:\n",
    "    products_in_basket = df_test.products.loc[df_test.user_id == user_ex].tolist()[0]\n",
    "else:\n",
    "    products_in_basket = []\n",
    "final_recommendations = []\n",
    "final_valuation = []\n",
    "\n",
    "for i in range(len(ids)):\n",
    "    similar_users_products = utility_matrix_T[cluster][ids[i]].nonzero()[1]\n",
    "    #Mask to filter products already in the user's cart\n",
    "    mask = np.isin(similar_users_products, products_in_basket, invert=True)\n",
    "    for j in range(len(similar_users_products[mask])):\n",
    "        if np.isin(similar_users_products[mask][j], final_recommendations, invert=True):\n",
    "            final_recommendations.append(similar_users_products[mask][j])\n",
    "            final_valuation.append(best[-(i+1)][1])\n",
    "        else:\n",
    "            index = final_recommendations.index(similar_users_products[mask][j])\n",
    "            final_valuation[index]+= best[-(i+1)][1]\n",
    "            \n",
    "final_recommendations = np.asarray(final_recommendations)\n",
    "final_valuation = np.asarray(final_valuation)"
   ]
  },
  {
   "cell_type": "code",
   "execution_count": 42,
   "metadata": {},
   "outputs": [],
   "source": [
    "ind = heapq.nlargest(min(10,len(final_recommendations)), range(len(final_valuation)), final_valuation.take)\n",
    "final_recommendations = final_recommendations[ind]"
   ]
  },
  {
   "cell_type": "code",
   "execution_count": 43,
   "metadata": {},
   "outputs": [
    {
     "name": "stdout",
     "output_type": "stream",
     "text": [
      "Recommended products:\n"
     ]
    },
    {
     "data": {
      "text/plain": [
       "0    Grade A Pasteurized 2% Milkfat Lowfat Cottage ...\n",
       "1                               Original String Cheese\n",
       "2               Red Velvet Cupcake Cake & Frosting Mix\n",
       "3                      Riserva Ducale Chianti Classico\n",
       "4                        Skin Trip Coconut Moisturizer\n",
       "5                  Organic Vegetarian Pho Soup Starter\n",
       "6                      San Marzano Tomatoes With Basil\n",
       "7            Organic Green Tea With Pomegranate & Acai\n",
       "8                                    Marshmallow Creme\n",
       "9                             Whole Grain Hot Dog Buns\n",
       "Name: product_name, dtype: object"
      ]
     },
     "execution_count": 43,
     "metadata": {},
     "output_type": "execute_result"
    }
   ],
   "source": [
    "print(\"Recommended products:\")\n",
    "df_products.product_name.loc[df_products.product_id.isin(final_recommendations)].reset_index(drop=True)"
   ]
  },
  {
   "cell_type": "markdown",
   "metadata": {},
   "source": [
    "Let's do it now for the rest of the users, or a sample of them"
   ]
  },
  {
   "cell_type": "code",
   "execution_count": 44,
   "metadata": {},
   "outputs": [
    {
     "name": "stdout",
     "output_type": "stream",
     "text": [
      "<class 'pandas.core.frame.DataFrame'>\n",
      "RangeIndex: 6560 entries, 0 to 6559\n",
      "Data columns (total 5 columns):\n",
      "user_id          6560 non-null int64\n",
      "products         6560 non-null object\n",
      "cluster          6560 non-null int64\n",
      "past_products    6560 non-null object\n",
      "new_products     6560 non-null object\n",
      "dtypes: int64(2), object(3)\n",
      "memory usage: 256.3+ KB\n"
     ]
    }
   ],
   "source": [
    "subset = 0.05 #We will make the predictions only in 5% of the data\n",
    "\n",
    "df_test = df_test.sample(n=int(len(df_test) * subset)).reset_index(drop=True)\n",
    "df_test.info()"
   ]
  },
  {
   "cell_type": "code",
   "execution_count": 45,
   "metadata": {},
   "outputs": [],
   "source": [
    "def recall_user2user(row):\n",
    "    cluster = df_train.cluster.loc[df_train.user_id == row['user_id']].unique()[0]\n",
    "    similarities = cosine_similarity(utility_matrix_T[cluster][users[cluster][row[\"user_id\"]]],utility_matrix_T[cluster])\n",
    "    ids = np.argpartition(similarities[0], -11)[-11:]\n",
    "    best = sorted(zip(ids, similarities[0][ids]), key=lambda x: -x[1])[1:]\n",
    "    \n",
    "    ids = ids[:-1]\n",
    "\n",
    "    if len(df_test.products.loc[df_test.user_id == row['user_id']])>0:\n",
    "        products_in_basket = df_test.products.loc[df_test.user_id == row['user_id']].tolist()[0]\n",
    "    else:\n",
    "        products_in_basket = []\n",
    "\n",
    "    final_recommendations = []\n",
    "    final_valuation = []\n",
    "\n",
    "    for i in range(len(ids)):\n",
    "        similar_users_products = utility_matrix_T[cluster][ids[i]].nonzero()[1]\n",
    "        #Mask to filter products already in the user's cart\n",
    "        mask = np.isin(similar_users_products, products_in_basket, invert=True)\n",
    "        for j in range(len(similar_users_products[mask])):\n",
    "            if np.isin(similar_users_products[mask][j], final_recommendations, invert=True):\n",
    "                final_recommendations.append(similar_users_products[mask][j])\n",
    "                final_valuation.append(best[-(i+1)][1])\n",
    "            else:\n",
    "                index = final_recommendations.index(similar_users_products[mask][j])\n",
    "                final_valuation[index]+= best[-(i+1)][1]\n",
    "\n",
    "    final_recommendations = np.asarray(final_recommendations)\n",
    "    final_valuation = np.asarray(final_valuation)\n",
    "    \n",
    "    ind = heapq.nlargest(min(10,len(final_recommendations)), range(len(final_valuation)), final_valuation.take)\n",
    "    final_recommendations = set(final_recommendations[ind])\n",
    "    \n",
    "    return final_recommendations\n",
    "\n",
    "\n",
    "df_test['Recommendations'] = df_test.apply(recall_user2user, axis=1)"
   ]
  },
  {
   "cell_type": "code",
   "execution_count": 46,
   "metadata": {},
   "outputs": [
    {
     "data": {
      "text/html": [
       "<div>\n",
       "<style>\n",
       "    .dataframe thead tr:only-child th {\n",
       "        text-align: right;\n",
       "    }\n",
       "\n",
       "    .dataframe thead th {\n",
       "        text-align: left;\n",
       "    }\n",
       "\n",
       "    .dataframe tbody tr th {\n",
       "        vertical-align: top;\n",
       "    }\n",
       "</style>\n",
       "<table border=\"1\" class=\"dataframe\">\n",
       "  <thead>\n",
       "    <tr style=\"text-align: right;\">\n",
       "      <th></th>\n",
       "      <th>user_id</th>\n",
       "      <th>products</th>\n",
       "      <th>cluster</th>\n",
       "      <th>past_products</th>\n",
       "      <th>new_products</th>\n",
       "      <th>Recommendations</th>\n",
       "    </tr>\n",
       "  </thead>\n",
       "  <tbody>\n",
       "    <tr>\n",
       "      <th>0</th>\n",
       "      <td>68472</td>\n",
       "      <td>[39814, 14678, 31474, 21525, 13424, 44088, 198...</td>\n",
       "      <td>0</td>\n",
       "      <td>{16283, 42629, 39814, 13575, 23719, 19887, 387...</td>\n",
       "      <td>{13424, 44088, 21525, 14678}</td>\n",
       "      <td>{30306, 17123, 20856, 13510, 32840, 38569, 162...</td>\n",
       "    </tr>\n",
       "    <tr>\n",
       "      <th>1</th>\n",
       "      <td>43902</td>\n",
       "      <td>[45066, 24390, 33787, 33754, 34551, 23537, 276...</td>\n",
       "      <td>0</td>\n",
       "      <td>{260, 2309, 1158, 11782, 24964, 24841, 14218, ...</td>\n",
       "      <td>{14947, 45541, 24390, 44632, 23537, 17300, 439...</td>\n",
       "      <td>{47520, 44835, 21801, 44777, 23915, 16715, 210...</td>\n",
       "    </tr>\n",
       "    <tr>\n",
       "      <th>2</th>\n",
       "      <td>151361</td>\n",
       "      <td>[36976, 24852, 25055, 26604, 35221, 32740]</td>\n",
       "      <td>1</td>\n",
       "      <td>{1025, 8193, 23044, 13829, 4614, 10246, 6664, ...</td>\n",
       "      <td>{}</td>\n",
       "      <td>{18560, 34434, 33798, 14951, 17611, 33707, 155...</td>\n",
       "    </tr>\n",
       "    <tr>\n",
       "      <th>3</th>\n",
       "      <td>83091</td>\n",
       "      <td>[35221, 43631, 36386, 49355, 14947, 47185, 424...</td>\n",
       "      <td>0</td>\n",
       "      <td>{40963, 27652, 23051, 44048, 3605, 35221, 2703...</td>\n",
       "      <td>{48226, 37606, 49319, 11259, 35164, 16959}</td>\n",
       "      <td>{47520, 43554, 27523, 3782, 36199, 44775, 4341...</td>\n",
       "    </tr>\n",
       "    <tr>\n",
       "      <th>4</th>\n",
       "      <td>111854</td>\n",
       "      <td>[4198, 19495, 15164, 42535, 37436, 39139, 46274]</td>\n",
       "      <td>0</td>\n",
       "      <td>{37512, 28427, 2708, 6550, 17819, 19495, 21288...</td>\n",
       "      <td>{46274, 39139, 4198, 42535, 37436}</td>\n",
       "      <td>{195, 41193, 19403, 41071, 15091, 26230, 13112...</td>\n",
       "    </tr>\n",
       "  </tbody>\n",
       "</table>\n",
       "</div>"
      ],
      "text/plain": [
       "   user_id                                           products  cluster  \\\n",
       "0    68472  [39814, 14678, 31474, 21525, 13424, 44088, 198...        0   \n",
       "1    43902  [45066, 24390, 33787, 33754, 34551, 23537, 276...        0   \n",
       "2   151361         [36976, 24852, 25055, 26604, 35221, 32740]        1   \n",
       "3    83091  [35221, 43631, 36386, 49355, 14947, 47185, 424...        0   \n",
       "4   111854   [4198, 19495, 15164, 42535, 37436, 39139, 46274]        0   \n",
       "\n",
       "                                       past_products  \\\n",
       "0  {16283, 42629, 39814, 13575, 23719, 19887, 387...   \n",
       "1  {260, 2309, 1158, 11782, 24964, 24841, 14218, ...   \n",
       "2  {1025, 8193, 23044, 13829, 4614, 10246, 6664, ...   \n",
       "3  {40963, 27652, 23051, 44048, 3605, 35221, 2703...   \n",
       "4  {37512, 28427, 2708, 6550, 17819, 19495, 21288...   \n",
       "\n",
       "                                        new_products  \\\n",
       "0                       {13424, 44088, 21525, 14678}   \n",
       "1  {14947, 45541, 24390, 44632, 23537, 17300, 439...   \n",
       "2                                                 {}   \n",
       "3         {48226, 37606, 49319, 11259, 35164, 16959}   \n",
       "4                 {46274, 39139, 4198, 42535, 37436}   \n",
       "\n",
       "                                     Recommendations  \n",
       "0  {30306, 17123, 20856, 13510, 32840, 38569, 162...  \n",
       "1  {47520, 44835, 21801, 44777, 23915, 16715, 210...  \n",
       "2  {18560, 34434, 33798, 14951, 17611, 33707, 155...  \n",
       "3  {47520, 43554, 27523, 3782, 36199, 44775, 4341...  \n",
       "4  {195, 41193, 19403, 41071, 15091, 26230, 13112...  "
      ]
     },
     "execution_count": 46,
     "metadata": {},
     "output_type": "execute_result"
    }
   ],
   "source": [
    "df_test.head()"
   ]
  },
  {
   "cell_type": "code",
   "execution_count": 47,
   "metadata": {
    "collapsed": true
   },
   "outputs": [],
   "source": [
    "df_test = df_test[['user_id','cluster','products','Recommendations']]\n",
    "df_test.columns = ['User','Cluster','Products in basket','Recommendations']"
   ]
  },
  {
   "cell_type": "code",
   "execution_count": 48,
   "metadata": {},
   "outputs": [
    {
     "data": {
      "text/html": [
       "<div>\n",
       "<style>\n",
       "    .dataframe thead tr:only-child th {\n",
       "        text-align: right;\n",
       "    }\n",
       "\n",
       "    .dataframe thead th {\n",
       "        text-align: left;\n",
       "    }\n",
       "\n",
       "    .dataframe tbody tr th {\n",
       "        vertical-align: top;\n",
       "    }\n",
       "</style>\n",
       "<table border=\"1\" class=\"dataframe\">\n",
       "  <thead>\n",
       "    <tr style=\"text-align: right;\">\n",
       "      <th></th>\n",
       "      <th>User</th>\n",
       "      <th>Cluster</th>\n",
       "      <th>Products in basket</th>\n",
       "      <th>Recommendations</th>\n",
       "    </tr>\n",
       "  </thead>\n",
       "  <tbody>\n",
       "    <tr>\n",
       "      <th>5031</th>\n",
       "      <td>13</td>\n",
       "      <td>0</td>\n",
       "      <td>[27435, 27086, 4210, 47078, 19934]</td>\n",
       "      <td>{40389, 24741, 39208, 26091, 35827, 26965, 161...</td>\n",
       "    </tr>\n",
       "    <tr>\n",
       "      <th>4442</th>\n",
       "      <td>46</td>\n",
       "      <td>0</td>\n",
       "      <td>[24852, 42987, 24097, 4605, 21781, 13733]</td>\n",
       "      <td>{11041, 24741, 38360, 39208, 38185, 28074, 167...</td>\n",
       "    </tr>\n",
       "    <tr>\n",
       "      <th>320</th>\n",
       "      <td>79</td>\n",
       "      <td>0</td>\n",
       "      <td>[27845, 13176, 19057, 21137, 44910, 32747, 342...</td>\n",
       "      <td>{27715, 39075, 23127, 21801, 21933, 21038, 469...</td>\n",
       "    </tr>\n",
       "    <tr>\n",
       "      <th>4546</th>\n",
       "      <td>96</td>\n",
       "      <td>0</td>\n",
       "      <td>[31371, 43304, 32578, 27966, 39275, 2228, 2629...</td>\n",
       "      <td>{39075, 18967, 24741, 28074, 3979, 7021, 31222...</td>\n",
       "    </tr>\n",
       "    <tr>\n",
       "      <th>1954</th>\n",
       "      <td>138</td>\n",
       "      <td>0</td>\n",
       "      <td>[42475]</td>\n",
       "      <td>{30306, 21801, 6155, 13966, 17937, 32531, 2194...</td>\n",
       "    </tr>\n",
       "  </tbody>\n",
       "</table>\n",
       "</div>"
      ],
      "text/plain": [
       "      User  Cluster                                 Products in basket  \\\n",
       "5031    13        0                 [27435, 27086, 4210, 47078, 19934]   \n",
       "4442    46        0          [24852, 42987, 24097, 4605, 21781, 13733]   \n",
       "320     79        0  [27845, 13176, 19057, 21137, 44910, 32747, 342...   \n",
       "4546    96        0  [31371, 43304, 32578, 27966, 39275, 2228, 2629...   \n",
       "1954   138        0                                            [42475]   \n",
       "\n",
       "                                        Recommendations  \n",
       "5031  {40389, 24741, 39208, 26091, 35827, 26965, 161...  \n",
       "4442  {11041, 24741, 38360, 39208, 38185, 28074, 167...  \n",
       "320   {27715, 39075, 23127, 21801, 21933, 21038, 469...  \n",
       "4546  {39075, 18967, 24741, 28074, 3979, 7021, 31222...  \n",
       "1954  {30306, 21801, 6155, 13966, 17937, 32531, 2194...  "
      ]
     },
     "execution_count": 48,
     "metadata": {},
     "output_type": "execute_result"
    }
   ],
   "source": [
    "df_test.sort_values('User').head()"
   ]
  }
 ],
 "metadata": {
  "kernelspec": {
   "display_name": "Python 3",
   "language": "python",
   "name": "python3"
  },
  "language_info": {
   "codemirror_mode": {
    "name": "ipython",
    "version": 3
   },
   "file_extension": ".py",
   "mimetype": "text/x-python",
   "name": "python",
   "nbconvert_exporter": "python",
   "pygments_lexer": "ipython3",
   "version": "3.6.1"
  }
 },
 "nbformat": 4,
 "nbformat_minor": 2
}
