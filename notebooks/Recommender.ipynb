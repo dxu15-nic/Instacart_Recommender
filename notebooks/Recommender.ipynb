{
 "cells": [
  {
   "cell_type": "code",
   "execution_count": 1,
   "metadata": {
    "collapsed": true
   },
   "outputs": [],
   "source": [
    "# Hide deprecation warnings\n",
    "import warnings\n",
    "warnings.filterwarnings('ignore')\n",
    "\n",
    "import pandas as pd\n",
    "import numpy as np\n",
    "import sys\n",
    "import scipy.sparse as sparse\n",
    "import scipy.sparse.linalg as linalg\n",
    "import heapq\n",
    "import itertools\n",
    "import implicit\n",
    "import pickle\n",
    "import time\n",
    "import operator\n",
    "\n",
    "# To plot pretty figures\n",
    "%matplotlib inline\n",
    "import matplotlib\n",
    "import matplotlib.pyplot as plt\n",
    "plt.rcParams['axes.labelsize'] = 14\n",
    "plt.rcParams['xtick.labelsize'] = 12\n",
    "plt.rcParams['ytick.labelsize'] = 12\n",
    "\n",
    "from itertools import chain\n",
    "from pathlib import Path\n",
    "from implicit.als import AlternatingLeastSquares\n",
    "from datetime import datetime\n",
    "from implicit.nearest_neighbours import tfidf_weight\n",
    "from sklearn.metrics.pairwise import cosine_similarity\n",
    "from scipy.sparse import coo_matrix, csr_matrix\n",
    "from numpy import bincount, log, sqrt"
   ]
  },
  {
   "cell_type": "markdown",
   "metadata": {},
   "source": [
    "## Load Datasets"
   ]
  },
  {
   "cell_type": "code",
   "execution_count": 2,
   "metadata": {
    "collapsed": true
   },
   "outputs": [],
   "source": [
    "df_order_products__prior = pd.read_csv(\"../data/raw/order_products__prior.csv\")\n",
    "df_order_products__train = pd.read_csv(\"../data/raw/order_products__train.csv\")\n",
    "df_orders = pd.read_csv(\"../data/raw/orders.csv\") \n",
    "df_products = pd.read_csv(\"../data/raw/products.csv\")"
   ]
  },
  {
   "cell_type": "markdown",
   "metadata": {},
   "source": [
    "## Data Preparation\n",
    "\n",
    "### User basket products"
   ]
  },
  {
   "cell_type": "code",
   "execution_count": 3,
   "metadata": {},
   "outputs": [
    {
     "data": {
      "text/html": [
       "<div>\n",
       "<style>\n",
       "    .dataframe thead tr:only-child th {\n",
       "        text-align: right;\n",
       "    }\n",
       "\n",
       "    .dataframe thead th {\n",
       "        text-align: left;\n",
       "    }\n",
       "\n",
       "    .dataframe tbody tr th {\n",
       "        vertical-align: top;\n",
       "    }\n",
       "</style>\n",
       "<table border=\"1\" class=\"dataframe\">\n",
       "  <thead>\n",
       "    <tr style=\"text-align: right;\">\n",
       "      <th></th>\n",
       "      <th>order_id</th>\n",
       "      <th>product_id</th>\n",
       "      <th>add_to_cart_order</th>\n",
       "      <th>reordered</th>\n",
       "      <th>product_name</th>\n",
       "      <th>aisle_id</th>\n",
       "      <th>department_id</th>\n",
       "    </tr>\n",
       "  </thead>\n",
       "  <tbody>\n",
       "    <tr>\n",
       "      <th>0</th>\n",
       "      <td>2</td>\n",
       "      <td>33120</td>\n",
       "      <td>1</td>\n",
       "      <td>1</td>\n",
       "      <td>Organic Egg Whites</td>\n",
       "      <td>86</td>\n",
       "      <td>16</td>\n",
       "    </tr>\n",
       "    <tr>\n",
       "      <th>1</th>\n",
       "      <td>2</td>\n",
       "      <td>28985</td>\n",
       "      <td>2</td>\n",
       "      <td>1</td>\n",
       "      <td>Michigan Organic Kale</td>\n",
       "      <td>83</td>\n",
       "      <td>4</td>\n",
       "    </tr>\n",
       "    <tr>\n",
       "      <th>2</th>\n",
       "      <td>2</td>\n",
       "      <td>9327</td>\n",
       "      <td>3</td>\n",
       "      <td>0</td>\n",
       "      <td>Garlic Powder</td>\n",
       "      <td>104</td>\n",
       "      <td>13</td>\n",
       "    </tr>\n",
       "    <tr>\n",
       "      <th>3</th>\n",
       "      <td>2</td>\n",
       "      <td>45918</td>\n",
       "      <td>4</td>\n",
       "      <td>1</td>\n",
       "      <td>Coconut Butter</td>\n",
       "      <td>19</td>\n",
       "      <td>13</td>\n",
       "    </tr>\n",
       "    <tr>\n",
       "      <th>4</th>\n",
       "      <td>2</td>\n",
       "      <td>30035</td>\n",
       "      <td>5</td>\n",
       "      <td>0</td>\n",
       "      <td>Natural Sweetener</td>\n",
       "      <td>17</td>\n",
       "      <td>13</td>\n",
       "    </tr>\n",
       "  </tbody>\n",
       "</table>\n",
       "</div>"
      ],
      "text/plain": [
       "   order_id  product_id  add_to_cart_order  reordered           product_name  \\\n",
       "0         2       33120                  1          1     Organic Egg Whites   \n",
       "1         2       28985                  2          1  Michigan Organic Kale   \n",
       "2         2        9327                  3          0          Garlic Powder   \n",
       "3         2       45918                  4          1         Coconut Butter   \n",
       "4         2       30035                  5          0      Natural Sweetener   \n",
       "\n",
       "   aisle_id  department_id  \n",
       "0        86             16  \n",
       "1        83              4  \n",
       "2       104             13  \n",
       "3        19             13  \n",
       "4        17             13  "
      ]
     },
     "execution_count": 3,
     "metadata": {},
     "output_type": "execute_result"
    }
   ],
   "source": [
    "df_merged_order_products_prior = pd.merge(df_order_products__prior, df_products, on=\"product_id\", how=\"left\")\n",
    "\n",
    "df_merged_order_products_prior.head()"
   ]
  },
  {
   "cell_type": "code",
   "execution_count": 4,
   "metadata": {},
   "outputs": [
    {
     "name": "stdout",
     "output_type": "stream",
     "text": [
      "<class 'pandas.core.frame.DataFrame'>\n",
      "Int64Index: 32434489 entries, 0 to 32434488\n",
      "Data columns (total 7 columns):\n",
      "order_id             int64\n",
      "product_id           int64\n",
      "add_to_cart_order    int64\n",
      "reordered            int64\n",
      "product_name         object\n",
      "aisle_id             int64\n",
      "department_id        int64\n",
      "dtypes: int64(6), object(1)\n",
      "memory usage: 1.9+ GB\n"
     ]
    }
   ],
   "source": [
    "df_merged_order_products_prior.info()"
   ]
  },
  {
   "cell_type": "code",
   "execution_count": 5,
   "metadata": {},
   "outputs": [
    {
     "data": {
      "text/html": [
       "<div>\n",
       "<style>\n",
       "    .dataframe thead tr:only-child th {\n",
       "        text-align: right;\n",
       "    }\n",
       "\n",
       "    .dataframe thead th {\n",
       "        text-align: left;\n",
       "    }\n",
       "\n",
       "    .dataframe tbody tr th {\n",
       "        vertical-align: top;\n",
       "    }\n",
       "</style>\n",
       "<table border=\"1\" class=\"dataframe\">\n",
       "  <thead>\n",
       "    <tr style=\"text-align: right;\">\n",
       "      <th></th>\n",
       "      <th>index</th>\n",
       "      <th>order_id</th>\n",
       "      <th>user_id</th>\n",
       "      <th>eval_set</th>\n",
       "      <th>order_number</th>\n",
       "      <th>order_dow</th>\n",
       "      <th>order_hour_of_day</th>\n",
       "      <th>days_since_prior_order</th>\n",
       "    </tr>\n",
       "  </thead>\n",
       "  <tbody>\n",
       "    <tr>\n",
       "      <th>0</th>\n",
       "      <td>10</td>\n",
       "      <td>1187899</td>\n",
       "      <td>1</td>\n",
       "      <td>train</td>\n",
       "      <td>11</td>\n",
       "      <td>4</td>\n",
       "      <td>8</td>\n",
       "      <td>14.0</td>\n",
       "    </tr>\n",
       "    <tr>\n",
       "      <th>1</th>\n",
       "      <td>25</td>\n",
       "      <td>1492625</td>\n",
       "      <td>2</td>\n",
       "      <td>train</td>\n",
       "      <td>15</td>\n",
       "      <td>1</td>\n",
       "      <td>11</td>\n",
       "      <td>30.0</td>\n",
       "    </tr>\n",
       "    <tr>\n",
       "      <th>2</th>\n",
       "      <td>49</td>\n",
       "      <td>2196797</td>\n",
       "      <td>5</td>\n",
       "      <td>train</td>\n",
       "      <td>5</td>\n",
       "      <td>0</td>\n",
       "      <td>11</td>\n",
       "      <td>6.0</td>\n",
       "    </tr>\n",
       "    <tr>\n",
       "      <th>3</th>\n",
       "      <td>74</td>\n",
       "      <td>525192</td>\n",
       "      <td>7</td>\n",
       "      <td>train</td>\n",
       "      <td>21</td>\n",
       "      <td>2</td>\n",
       "      <td>11</td>\n",
       "      <td>6.0</td>\n",
       "    </tr>\n",
       "    <tr>\n",
       "      <th>4</th>\n",
       "      <td>78</td>\n",
       "      <td>880375</td>\n",
       "      <td>8</td>\n",
       "      <td>train</td>\n",
       "      <td>4</td>\n",
       "      <td>1</td>\n",
       "      <td>14</td>\n",
       "      <td>10.0</td>\n",
       "    </tr>\n",
       "  </tbody>\n",
       "</table>\n",
       "</div>"
      ],
      "text/plain": [
       "   index  order_id  user_id eval_set  order_number  order_dow  \\\n",
       "0     10   1187899        1    train            11          4   \n",
       "1     25   1492625        2    train            15          1   \n",
       "2     49   2196797        5    train             5          0   \n",
       "3     74    525192        7    train            21          2   \n",
       "4     78    880375        8    train             4          1   \n",
       "\n",
       "   order_hour_of_day  days_since_prior_order  \n",
       "0                  8                    14.0  \n",
       "1                 11                    30.0  \n",
       "2                 11                     6.0  \n",
       "3                 11                     6.0  \n",
       "4                 14                    10.0  "
      ]
     },
     "execution_count": 5,
     "metadata": {},
     "output_type": "execute_result"
    }
   ],
   "source": [
    "df_orders_users_train = df_orders.loc[(df_orders.eval_set == \"train\")].reset_index()\n",
    "df_orders_users_train.head()"
   ]
  },
  {
   "cell_type": "code",
   "execution_count": 6,
   "metadata": {},
   "outputs": [
    {
     "data": {
      "text/plain": [
       "(131209, 8)"
      ]
     },
     "execution_count": 6,
     "metadata": {},
     "output_type": "execute_result"
    }
   ],
   "source": [
    "df_orders_users_train.shape"
   ]
  },
  {
   "cell_type": "code",
   "execution_count": 7,
   "metadata": {},
   "outputs": [
    {
     "data": {
      "text/html": [
       "<div>\n",
       "<style>\n",
       "    .dataframe thead tr:only-child th {\n",
       "        text-align: right;\n",
       "    }\n",
       "\n",
       "    .dataframe thead th {\n",
       "        text-align: left;\n",
       "    }\n",
       "\n",
       "    .dataframe tbody tr th {\n",
       "        vertical-align: top;\n",
       "    }\n",
       "</style>\n",
       "<table border=\"1\" class=\"dataframe\">\n",
       "  <thead>\n",
       "    <tr style=\"text-align: right;\">\n",
       "      <th></th>\n",
       "      <th>order_id</th>\n",
       "      <th>user_id</th>\n",
       "    </tr>\n",
       "  </thead>\n",
       "  <tbody>\n",
       "    <tr>\n",
       "      <th>0</th>\n",
       "      <td>1187899</td>\n",
       "      <td>1</td>\n",
       "    </tr>\n",
       "    <tr>\n",
       "      <th>1</th>\n",
       "      <td>1492625</td>\n",
       "      <td>2</td>\n",
       "    </tr>\n",
       "    <tr>\n",
       "      <th>2</th>\n",
       "      <td>2196797</td>\n",
       "      <td>5</td>\n",
       "    </tr>\n",
       "    <tr>\n",
       "      <th>3</th>\n",
       "      <td>525192</td>\n",
       "      <td>7</td>\n",
       "    </tr>\n",
       "    <tr>\n",
       "      <th>4</th>\n",
       "      <td>880375</td>\n",
       "      <td>8</td>\n",
       "    </tr>\n",
       "  </tbody>\n",
       "</table>\n",
       "</div>"
      ],
      "text/plain": [
       "   order_id  user_id\n",
       "0   1187899        1\n",
       "1   1492625        2\n",
       "2   2196797        5\n",
       "3    525192        7\n",
       "4    880375        8"
      ]
     },
     "execution_count": 7,
     "metadata": {},
     "output_type": "execute_result"
    }
   ],
   "source": [
    "df_orders_users_train = df_orders_users_train[[\"order_id\", \"user_id\"]]\n",
    "df_orders_users_train.head()"
   ]
  },
  {
   "cell_type": "code",
   "execution_count": 8,
   "metadata": {},
   "outputs": [
    {
     "data": {
      "text/html": [
       "<div>\n",
       "<style>\n",
       "    .dataframe thead tr:only-child th {\n",
       "        text-align: right;\n",
       "    }\n",
       "\n",
       "    .dataframe thead th {\n",
       "        text-align: left;\n",
       "    }\n",
       "\n",
       "    .dataframe tbody tr th {\n",
       "        vertical-align: top;\n",
       "    }\n",
       "</style>\n",
       "<table border=\"1\" class=\"dataframe\">\n",
       "  <thead>\n",
       "    <tr style=\"text-align: right;\">\n",
       "      <th></th>\n",
       "      <th>order_id</th>\n",
       "      <th>product_id</th>\n",
       "    </tr>\n",
       "  </thead>\n",
       "  <tbody>\n",
       "    <tr>\n",
       "      <th>0</th>\n",
       "      <td>1</td>\n",
       "      <td>49302</td>\n",
       "    </tr>\n",
       "    <tr>\n",
       "      <th>1</th>\n",
       "      <td>1</td>\n",
       "      <td>11109</td>\n",
       "    </tr>\n",
       "    <tr>\n",
       "      <th>2</th>\n",
       "      <td>1</td>\n",
       "      <td>10246</td>\n",
       "    </tr>\n",
       "    <tr>\n",
       "      <th>3</th>\n",
       "      <td>1</td>\n",
       "      <td>49683</td>\n",
       "    </tr>\n",
       "    <tr>\n",
       "      <th>4</th>\n",
       "      <td>1</td>\n",
       "      <td>43633</td>\n",
       "    </tr>\n",
       "  </tbody>\n",
       "</table>\n",
       "</div>"
      ],
      "text/plain": [
       "   order_id  product_id\n",
       "0         1       49302\n",
       "1         1       11109\n",
       "2         1       10246\n",
       "3         1       49683\n",
       "4         1       43633"
      ]
     },
     "execution_count": 8,
     "metadata": {},
     "output_type": "execute_result"
    }
   ],
   "source": [
    "df_order_products_test = df_order_products__train[[\"order_id\", \"product_id\"]]\n",
    "df_order_products_test.head()"
   ]
  },
  {
   "cell_type": "code",
   "execution_count": 9,
   "metadata": {},
   "outputs": [
    {
     "data": {
      "text/plain": [
       "(1384617, 2)"
      ]
     },
     "execution_count": 9,
     "metadata": {},
     "output_type": "execute_result"
    }
   ],
   "source": [
    "df_order_products_test.shape"
   ]
  },
  {
   "cell_type": "code",
   "execution_count": 10,
   "metadata": {},
   "outputs": [
    {
     "data": {
      "text/html": [
       "<div>\n",
       "<style>\n",
       "    .dataframe thead tr:only-child th {\n",
       "        text-align: right;\n",
       "    }\n",
       "\n",
       "    .dataframe thead th {\n",
       "        text-align: left;\n",
       "    }\n",
       "\n",
       "    .dataframe tbody tr th {\n",
       "        vertical-align: top;\n",
       "    }\n",
       "</style>\n",
       "<table border=\"1\" class=\"dataframe\">\n",
       "  <thead>\n",
       "    <tr style=\"text-align: right;\">\n",
       "      <th></th>\n",
       "      <th>order_id</th>\n",
       "      <th>products</th>\n",
       "    </tr>\n",
       "  </thead>\n",
       "  <tbody>\n",
       "    <tr>\n",
       "      <th>0</th>\n",
       "      <td>1</td>\n",
       "      <td>[49302, 11109, 10246, 49683, 43633, 13176, 472...</td>\n",
       "    </tr>\n",
       "    <tr>\n",
       "      <th>1</th>\n",
       "      <td>36</td>\n",
       "      <td>[39612, 19660, 49235, 43086, 46620, 34497, 486...</td>\n",
       "    </tr>\n",
       "    <tr>\n",
       "      <th>2</th>\n",
       "      <td>38</td>\n",
       "      <td>[11913, 18159, 4461, 21616, 23622, 32433, 2884...</td>\n",
       "    </tr>\n",
       "    <tr>\n",
       "      <th>3</th>\n",
       "      <td>96</td>\n",
       "      <td>[20574, 30391, 40706, 25610, 27966, 24489, 39275]</td>\n",
       "    </tr>\n",
       "    <tr>\n",
       "      <th>4</th>\n",
       "      <td>98</td>\n",
       "      <td>[8859, 19731, 43654, 13176, 4357, 37664, 34065...</td>\n",
       "    </tr>\n",
       "  </tbody>\n",
       "</table>\n",
       "</div>"
      ],
      "text/plain": [
       "   order_id                                           products\n",
       "0         1  [49302, 11109, 10246, 49683, 43633, 13176, 472...\n",
       "1        36  [39612, 19660, 49235, 43086, 46620, 34497, 486...\n",
       "2        38  [11913, 18159, 4461, 21616, 23622, 32433, 2884...\n",
       "3        96  [20574, 30391, 40706, 25610, 27966, 24489, 39275]\n",
       "4        98  [8859, 19731, 43654, 13176, 4357, 37664, 34065..."
      ]
     },
     "execution_count": 10,
     "metadata": {},
     "output_type": "execute_result"
    }
   ],
   "source": [
    "df_order_products_test = df_order_products_test.groupby(\"order_id\")[\"product_id\"]\\\n",
    "                         .apply(list).reset_index().rename(columns={\"product_id\": \"products\"})\n",
    "    \n",
    "df_order_products_test.head()"
   ]
  },
  {
   "cell_type": "code",
   "execution_count": 11,
   "metadata": {},
   "outputs": [
    {
     "data": {
      "text/plain": [
       "(131209, 2)"
      ]
     },
     "execution_count": 11,
     "metadata": {},
     "output_type": "execute_result"
    }
   ],
   "source": [
    "df_order_products_test.shape"
   ]
  },
  {
   "cell_type": "code",
   "execution_count": 12,
   "metadata": {},
   "outputs": [
    {
     "data": {
      "text/html": [
       "<div>\n",
       "<style>\n",
       "    .dataframe thead tr:only-child th {\n",
       "        text-align: right;\n",
       "    }\n",
       "\n",
       "    .dataframe thead th {\n",
       "        text-align: left;\n",
       "    }\n",
       "\n",
       "    .dataframe tbody tr th {\n",
       "        vertical-align: top;\n",
       "    }\n",
       "</style>\n",
       "<table border=\"1\" class=\"dataframe\">\n",
       "  <thead>\n",
       "    <tr style=\"text-align: right;\">\n",
       "      <th></th>\n",
       "      <th>order_id</th>\n",
       "      <th>user_id</th>\n",
       "      <th>products</th>\n",
       "    </tr>\n",
       "  </thead>\n",
       "  <tbody>\n",
       "    <tr>\n",
       "      <th>0</th>\n",
       "      <td>1187899</td>\n",
       "      <td>1</td>\n",
       "      <td>[196, 25133, 38928, 26405, 39657, 10258, 13032...</td>\n",
       "    </tr>\n",
       "    <tr>\n",
       "      <th>1</th>\n",
       "      <td>1492625</td>\n",
       "      <td>2</td>\n",
       "      <td>[22963, 7963, 16589, 32792, 41787, 22825, 1364...</td>\n",
       "    </tr>\n",
       "    <tr>\n",
       "      <th>2</th>\n",
       "      <td>2196797</td>\n",
       "      <td>5</td>\n",
       "      <td>[15349, 19057, 16185, 21413, 20843, 20114, 482...</td>\n",
       "    </tr>\n",
       "    <tr>\n",
       "      <th>3</th>\n",
       "      <td>525192</td>\n",
       "      <td>7</td>\n",
       "      <td>[12053, 47272, 37999, 13198, 43967, 40852, 176...</td>\n",
       "    </tr>\n",
       "    <tr>\n",
       "      <th>4</th>\n",
       "      <td>880375</td>\n",
       "      <td>8</td>\n",
       "      <td>[15937, 5539, 10960, 23165, 22247, 4853, 27104...</td>\n",
       "    </tr>\n",
       "  </tbody>\n",
       "</table>\n",
       "</div>"
      ],
      "text/plain": [
       "   order_id  user_id                                           products\n",
       "0   1187899        1  [196, 25133, 38928, 26405, 39657, 10258, 13032...\n",
       "1   1492625        2  [22963, 7963, 16589, 32792, 41787, 22825, 1364...\n",
       "2   2196797        5  [15349, 19057, 16185, 21413, 20843, 20114, 482...\n",
       "3    525192        7  [12053, 47272, 37999, 13198, 43967, 40852, 176...\n",
       "4    880375        8  [15937, 5539, 10960, 23165, 22247, 4853, 27104..."
      ]
     },
     "execution_count": 12,
     "metadata": {},
     "output_type": "execute_result"
    }
   ],
   "source": [
    "df_user_products_test = pd.merge(df_orders_users_train, df_order_products_test, on=\"order_id\")\n",
    "df_user_products_test.head()"
   ]
  },
  {
   "cell_type": "code",
   "execution_count": 13,
   "metadata": {},
   "outputs": [
    {
     "data": {
      "text/html": [
       "<div>\n",
       "<style>\n",
       "    .dataframe thead tr:only-child th {\n",
       "        text-align: right;\n",
       "    }\n",
       "\n",
       "    .dataframe thead th {\n",
       "        text-align: left;\n",
       "    }\n",
       "\n",
       "    .dataframe tbody tr th {\n",
       "        vertical-align: top;\n",
       "    }\n",
       "</style>\n",
       "<table border=\"1\" class=\"dataframe\">\n",
       "  <thead>\n",
       "    <tr style=\"text-align: right;\">\n",
       "      <th></th>\n",
       "      <th>user_id</th>\n",
       "      <th>products</th>\n",
       "    </tr>\n",
       "  </thead>\n",
       "  <tbody>\n",
       "    <tr>\n",
       "      <th>0</th>\n",
       "      <td>1</td>\n",
       "      <td>[196, 25133, 38928, 26405, 39657, 10258, 13032...</td>\n",
       "    </tr>\n",
       "    <tr>\n",
       "      <th>1</th>\n",
       "      <td>2</td>\n",
       "      <td>[22963, 7963, 16589, 32792, 41787, 22825, 1364...</td>\n",
       "    </tr>\n",
       "    <tr>\n",
       "      <th>2</th>\n",
       "      <td>5</td>\n",
       "      <td>[15349, 19057, 16185, 21413, 20843, 20114, 482...</td>\n",
       "    </tr>\n",
       "    <tr>\n",
       "      <th>3</th>\n",
       "      <td>7</td>\n",
       "      <td>[12053, 47272, 37999, 13198, 43967, 40852, 176...</td>\n",
       "    </tr>\n",
       "    <tr>\n",
       "      <th>4</th>\n",
       "      <td>8</td>\n",
       "      <td>[15937, 5539, 10960, 23165, 22247, 4853, 27104...</td>\n",
       "    </tr>\n",
       "  </tbody>\n",
       "</table>\n",
       "</div>"
      ],
      "text/plain": [
       "   user_id                                           products\n",
       "0        1  [196, 25133, 38928, 26405, 39657, 10258, 13032...\n",
       "1        2  [22963, 7963, 16589, 32792, 41787, 22825, 1364...\n",
       "2        5  [15349, 19057, 16185, 21413, 20843, 20114, 482...\n",
       "3        7  [12053, 47272, 37999, 13198, 43967, 40852, 176...\n",
       "4        8  [15937, 5539, 10960, 23165, 22247, 4853, 27104..."
      ]
     },
     "execution_count": 13,
     "metadata": {},
     "output_type": "execute_result"
    }
   ],
   "source": [
    "df_user_products_test = df_user_products_test[[\"user_id\", \"products\"]]\n",
    "df_user_products_test.head()"
   ]
  },
  {
   "cell_type": "code",
   "execution_count": 14,
   "metadata": {
    "collapsed": true
   },
   "outputs": [],
   "source": [
    "df_user_products_test.to_csv(\"../data/interim/user_products__test.csv\", index_label=False)"
   ]
  },
  {
   "cell_type": "markdown",
   "metadata": {},
   "source": [
    "### Users prior purchases per product"
   ]
  },
  {
   "cell_type": "code",
   "execution_count": 15,
   "metadata": {},
   "outputs": [
    {
     "data": {
      "text/html": [
       "<div>\n",
       "<style>\n",
       "    .dataframe thead tr:only-child th {\n",
       "        text-align: right;\n",
       "    }\n",
       "\n",
       "    .dataframe thead th {\n",
       "        text-align: left;\n",
       "    }\n",
       "\n",
       "    .dataframe tbody tr th {\n",
       "        vertical-align: top;\n",
       "    }\n",
       "</style>\n",
       "<table border=\"1\" class=\"dataframe\">\n",
       "  <thead>\n",
       "    <tr style=\"text-align: right;\">\n",
       "      <th></th>\n",
       "      <th>order_id</th>\n",
       "      <th>user_id</th>\n",
       "      <th>eval_set</th>\n",
       "      <th>order_number</th>\n",
       "      <th>order_dow</th>\n",
       "      <th>order_hour_of_day</th>\n",
       "      <th>days_since_prior_order</th>\n",
       "    </tr>\n",
       "  </thead>\n",
       "  <tbody>\n",
       "    <tr>\n",
       "      <th>0</th>\n",
       "      <td>2539329</td>\n",
       "      <td>1</td>\n",
       "      <td>prior</td>\n",
       "      <td>1</td>\n",
       "      <td>2</td>\n",
       "      <td>8</td>\n",
       "      <td>NaN</td>\n",
       "    </tr>\n",
       "    <tr>\n",
       "      <th>1</th>\n",
       "      <td>2398795</td>\n",
       "      <td>1</td>\n",
       "      <td>prior</td>\n",
       "      <td>2</td>\n",
       "      <td>3</td>\n",
       "      <td>7</td>\n",
       "      <td>15.0</td>\n",
       "    </tr>\n",
       "    <tr>\n",
       "      <th>2</th>\n",
       "      <td>473747</td>\n",
       "      <td>1</td>\n",
       "      <td>prior</td>\n",
       "      <td>3</td>\n",
       "      <td>3</td>\n",
       "      <td>12</td>\n",
       "      <td>21.0</td>\n",
       "    </tr>\n",
       "    <tr>\n",
       "      <th>3</th>\n",
       "      <td>2254736</td>\n",
       "      <td>1</td>\n",
       "      <td>prior</td>\n",
       "      <td>4</td>\n",
       "      <td>4</td>\n",
       "      <td>7</td>\n",
       "      <td>29.0</td>\n",
       "    </tr>\n",
       "    <tr>\n",
       "      <th>4</th>\n",
       "      <td>431534</td>\n",
       "      <td>1</td>\n",
       "      <td>prior</td>\n",
       "      <td>5</td>\n",
       "      <td>4</td>\n",
       "      <td>15</td>\n",
       "      <td>28.0</td>\n",
       "    </tr>\n",
       "  </tbody>\n",
       "</table>\n",
       "</div>"
      ],
      "text/plain": [
       "   order_id  user_id eval_set  order_number  order_dow  order_hour_of_day  \\\n",
       "0   2539329        1    prior             1          2                  8   \n",
       "1   2398795        1    prior             2          3                  7   \n",
       "2    473747        1    prior             3          3                 12   \n",
       "3   2254736        1    prior             4          4                  7   \n",
       "4    431534        1    prior             5          4                 15   \n",
       "\n",
       "   days_since_prior_order  \n",
       "0                     NaN  \n",
       "1                    15.0  \n",
       "2                    21.0  \n",
       "3                    29.0  \n",
       "4                    28.0  "
      ]
     },
     "execution_count": 15,
     "metadata": {},
     "output_type": "execute_result"
    }
   ],
   "source": [
    "df_order_user_prior = df_orders.loc[df_orders.eval_set == \"prior\"]\n",
    "df_order_user_prior.head()"
   ]
  },
  {
   "cell_type": "code",
   "execution_count": 16,
   "metadata": {},
   "outputs": [
    {
     "data": {
      "text/plain": [
       "(3214874, 7)"
      ]
     },
     "execution_count": 16,
     "metadata": {},
     "output_type": "execute_result"
    }
   ],
   "source": [
    "df_order_user_prior.shape"
   ]
  },
  {
   "cell_type": "code",
   "execution_count": 17,
   "metadata": {},
   "outputs": [
    {
     "data": {
      "text/html": [
       "<div>\n",
       "<style>\n",
       "    .dataframe thead tr:only-child th {\n",
       "        text-align: right;\n",
       "    }\n",
       "\n",
       "    .dataframe thead th {\n",
       "        text-align: left;\n",
       "    }\n",
       "\n",
       "    .dataframe tbody tr th {\n",
       "        vertical-align: top;\n",
       "    }\n",
       "</style>\n",
       "<table border=\"1\" class=\"dataframe\">\n",
       "  <thead>\n",
       "    <tr style=\"text-align: right;\">\n",
       "      <th></th>\n",
       "      <th>order_id</th>\n",
       "      <th>user_id</th>\n",
       "    </tr>\n",
       "  </thead>\n",
       "  <tbody>\n",
       "    <tr>\n",
       "      <th>0</th>\n",
       "      <td>2539329</td>\n",
       "      <td>1</td>\n",
       "    </tr>\n",
       "    <tr>\n",
       "      <th>1</th>\n",
       "      <td>2398795</td>\n",
       "      <td>1</td>\n",
       "    </tr>\n",
       "    <tr>\n",
       "      <th>2</th>\n",
       "      <td>473747</td>\n",
       "      <td>1</td>\n",
       "    </tr>\n",
       "    <tr>\n",
       "      <th>3</th>\n",
       "      <td>2254736</td>\n",
       "      <td>1</td>\n",
       "    </tr>\n",
       "    <tr>\n",
       "      <th>4</th>\n",
       "      <td>431534</td>\n",
       "      <td>1</td>\n",
       "    </tr>\n",
       "  </tbody>\n",
       "</table>\n",
       "</div>"
      ],
      "text/plain": [
       "   order_id  user_id\n",
       "0   2539329        1\n",
       "1   2398795        1\n",
       "2    473747        1\n",
       "3   2254736        1\n",
       "4    431534        1"
      ]
     },
     "execution_count": 17,
     "metadata": {},
     "output_type": "execute_result"
    }
   ],
   "source": [
    "df_order_user_prior = df_order_user_prior[[\"order_id\", \"user_id\"]]\n",
    "df_order_user_prior.head()"
   ]
  },
  {
   "cell_type": "code",
   "execution_count": 18,
   "metadata": {},
   "outputs": [
    {
     "data": {
      "text/html": [
       "<div>\n",
       "<style>\n",
       "    .dataframe thead tr:only-child th {\n",
       "        text-align: right;\n",
       "    }\n",
       "\n",
       "    .dataframe thead th {\n",
       "        text-align: left;\n",
       "    }\n",
       "\n",
       "    .dataframe tbody tr th {\n",
       "        vertical-align: top;\n",
       "    }\n",
       "</style>\n",
       "<table border=\"1\" class=\"dataframe\">\n",
       "  <thead>\n",
       "    <tr style=\"text-align: right;\">\n",
       "      <th></th>\n",
       "      <th>order_id</th>\n",
       "      <th>user_id</th>\n",
       "      <th>product_id</th>\n",
       "    </tr>\n",
       "  </thead>\n",
       "  <tbody>\n",
       "    <tr>\n",
       "      <th>0</th>\n",
       "      <td>2539329</td>\n",
       "      <td>1</td>\n",
       "      <td>196</td>\n",
       "    </tr>\n",
       "    <tr>\n",
       "      <th>1</th>\n",
       "      <td>2539329</td>\n",
       "      <td>1</td>\n",
       "      <td>14084</td>\n",
       "    </tr>\n",
       "    <tr>\n",
       "      <th>2</th>\n",
       "      <td>2539329</td>\n",
       "      <td>1</td>\n",
       "      <td>12427</td>\n",
       "    </tr>\n",
       "    <tr>\n",
       "      <th>3</th>\n",
       "      <td>2539329</td>\n",
       "      <td>1</td>\n",
       "      <td>26088</td>\n",
       "    </tr>\n",
       "    <tr>\n",
       "      <th>4</th>\n",
       "      <td>2539329</td>\n",
       "      <td>1</td>\n",
       "      <td>26405</td>\n",
       "    </tr>\n",
       "  </tbody>\n",
       "</table>\n",
       "</div>"
      ],
      "text/plain": [
       "   order_id  user_id  product_id\n",
       "0   2539329        1         196\n",
       "1   2539329        1       14084\n",
       "2   2539329        1       12427\n",
       "3   2539329        1       26088\n",
       "4   2539329        1       26405"
      ]
     },
     "execution_count": 18,
     "metadata": {},
     "output_type": "execute_result"
    }
   ],
   "source": [
    "df_user_product_prior = pd.merge(df_order_user_prior, df_order_products__prior[[\"order_id\", \"product_id\"]],\\\n",
    "                                 on=\"order_id\")\n",
    "df_user_product_prior.head()"
   ]
  },
  {
   "cell_type": "code",
   "execution_count": 19,
   "metadata": {},
   "outputs": [
    {
     "data": {
      "text/html": [
       "<div>\n",
       "<style>\n",
       "    .dataframe thead tr:only-child th {\n",
       "        text-align: right;\n",
       "    }\n",
       "\n",
       "    .dataframe thead th {\n",
       "        text-align: left;\n",
       "    }\n",
       "\n",
       "    .dataframe tbody tr th {\n",
       "        vertical-align: top;\n",
       "    }\n",
       "</style>\n",
       "<table border=\"1\" class=\"dataframe\">\n",
       "  <thead>\n",
       "    <tr style=\"text-align: right;\">\n",
       "      <th></th>\n",
       "      <th>user_id</th>\n",
       "      <th>product_id</th>\n",
       "      <th>quantity</th>\n",
       "    </tr>\n",
       "  </thead>\n",
       "  <tbody>\n",
       "    <tr>\n",
       "      <th>0</th>\n",
       "      <td>1</td>\n",
       "      <td>196</td>\n",
       "      <td>10</td>\n",
       "    </tr>\n",
       "    <tr>\n",
       "      <th>1</th>\n",
       "      <td>1</td>\n",
       "      <td>10258</td>\n",
       "      <td>9</td>\n",
       "    </tr>\n",
       "    <tr>\n",
       "      <th>2</th>\n",
       "      <td>1</td>\n",
       "      <td>10326</td>\n",
       "      <td>1</td>\n",
       "    </tr>\n",
       "    <tr>\n",
       "      <th>3</th>\n",
       "      <td>1</td>\n",
       "      <td>12427</td>\n",
       "      <td>10</td>\n",
       "    </tr>\n",
       "    <tr>\n",
       "      <th>4</th>\n",
       "      <td>1</td>\n",
       "      <td>13032</td>\n",
       "      <td>3</td>\n",
       "    </tr>\n",
       "  </tbody>\n",
       "</table>\n",
       "</div>"
      ],
      "text/plain": [
       "   user_id  product_id  quantity\n",
       "0        1         196        10\n",
       "1        1       10258         9\n",
       "2        1       10326         1\n",
       "3        1       12427        10\n",
       "4        1       13032         3"
      ]
     },
     "execution_count": 19,
     "metadata": {},
     "output_type": "execute_result"
    }
   ],
   "source": [
    "df_user_product_prior = df_user_product_prior[[\"user_id\", \"product_id\"]]\n",
    "df_user_product_prior = df_user_product_prior.groupby([\"user_id\", \"product_id\"])\\\n",
    "                                                      .size().reset_index().rename(columns={0:\"quantity\"})\n",
    "df_user_product_prior.head() "
   ]
  },
  {
   "cell_type": "code",
   "execution_count": 20,
   "metadata": {},
   "outputs": [
    {
     "data": {
      "text/plain": [
       "(13307953, 3)"
      ]
     },
     "execution_count": 20,
     "metadata": {},
     "output_type": "execute_result"
    }
   ],
   "source": [
    "df_user_product_prior.shape"
   ]
  },
  {
   "cell_type": "code",
   "execution_count": 21,
   "metadata": {},
   "outputs": [
    {
     "name": "stdout",
     "output_type": "stream",
     "text": [
      "<class 'pandas.core.frame.DataFrame'>\n",
      "RangeIndex: 13307953 entries, 0 to 13307952\n",
      "Data columns (total 3 columns):\n",
      "user_id       int64\n",
      "product_id    int64\n",
      "quantity      int64\n",
      "dtypes: int64(3)\n",
      "memory usage: 304.6 MB\n"
     ]
    }
   ],
   "source": [
    "df_user_product_prior.info()"
   ]
  },
  {
   "cell_type": "code",
   "execution_count": 22,
   "metadata": {},
   "outputs": [
    {
     "name": "stdout",
     "output_type": "stream",
     "text": [
      "<class 'pandas.core.frame.DataFrame'>\n",
      "RangeIndex: 13307953 entries, 0 to 13307952\n",
      "Data columns (total 3 columns):\n",
      "user_id       category\n",
      "product_id    category\n",
      "quantity      int64\n",
      "dtypes: category(2), int64(1)\n",
      "memory usage: 216.3 MB\n"
     ]
    }
   ],
   "source": [
    "df_user_product_prior[\"user_id\"] = df_user_product_prior[\"user_id\"].astype(\"category\")\n",
    "df_user_product_prior[\"product_id\"] = df_user_product_prior[\"product_id\"].astype(\"category\")\n",
    "\n",
    "df_user_product_prior.info()"
   ]
  },
  {
   "cell_type": "code",
   "execution_count": 23,
   "metadata": {
    "collapsed": true
   },
   "outputs": [],
   "source": [
    "df_user_product_prior.to_csv(\"../data/interim/user_products__prior.csv\", index_label=False)"
   ]
  },
  {
   "cell_type": "markdown",
   "metadata": {},
   "source": [
    "## Utility Matrix"
   ]
  },
  {
   "cell_type": "code",
   "execution_count": 24,
   "metadata": {},
   "outputs": [
    {
     "data": {
      "text/plain": [
       "(49677, 206209)"
      ]
     },
     "execution_count": 24,
     "metadata": {},
     "output_type": "execute_result"
    }
   ],
   "source": [
    "utility_matrix = sparse.coo_matrix((df_user_product_prior[\"quantity\"],\n",
    "                                        (df_user_product_prior[\"product_id\"].cat.codes.copy(),\n",
    "                                         df_user_product_prior[\"user_id\"].cat.codes.copy())))\n",
    "\n",
    "utility_matrix.shape"
   ]
  },
  {
   "cell_type": "code",
   "execution_count": 25,
   "metadata": {
    "collapsed": true
   },
   "outputs": [],
   "source": [
    "sparse.save_npz(\"../data/interim/utility_matrix.npz\", utility_matrix)"
   ]
  },
  {
   "cell_type": "code",
   "execution_count": 26,
   "metadata": {
    "collapsed": true
   },
   "outputs": [],
   "source": [
    "utility_matrix = utility_matrix.T.tocsr().astype(np.float32)"
   ]
  },
  {
   "cell_type": "markdown",
   "metadata": {},
   "source": [
    "## Singular-value Decomposition "
   ]
  },
  {
   "cell_type": "markdown",
   "metadata": {},
   "source": [
    "Calculate the product and user factors with a number of factors = 10."
   ]
  },
  {
   "cell_type": "code",
   "execution_count": 175,
   "metadata": {
    "collapsed": true
   },
   "outputs": [],
   "source": [
    "user_factors_10, singular_values_10, product_factors_10 = linalg.svds(utility_matrix, 10)"
   ]
  },
  {
   "cell_type": "code",
   "execution_count": 176,
   "metadata": {},
   "outputs": [
    {
     "data": {
      "text/plain": [
       "(10, 49677)"
      ]
     },
     "execution_count": 176,
     "metadata": {},
     "output_type": "execute_result"
    }
   ],
   "source": [
    "product_factors_10.shape"
   ]
  },
  {
   "cell_type": "code",
   "execution_count": 177,
   "metadata": {},
   "outputs": [
    {
     "data": {
      "text/plain": [
       "(10,)"
      ]
     },
     "execution_count": 177,
     "metadata": {},
     "output_type": "execute_result"
    }
   ],
   "source": [
    "singular_values_10.shape"
   ]
  },
  {
   "cell_type": "code",
   "execution_count": 178,
   "metadata": {},
   "outputs": [
    {
     "data": {
      "text/plain": [
       "(206209, 10)"
      ]
     },
     "execution_count": 178,
     "metadata": {},
     "output_type": "execute_result"
    }
   ],
   "source": [
    "user_factors_10.shape"
   ]
  },
  {
   "cell_type": "code",
   "execution_count": 179,
   "metadata": {},
   "outputs": [],
   "source": [
    "# changing to user* factor format\n",
    "user_factors_10=user_factors_10*singular_values_10"
   ]
  },
  {
   "cell_type": "code",
   "execution_count": 180,
   "metadata": {},
   "outputs": [
    {
     "data": {
      "text/plain": [
       "(206209, 10)"
      ]
     },
     "execution_count": 180,
     "metadata": {},
     "output_type": "execute_result"
    }
   ],
   "source": [
    "user_factors_10.shape"
   ]
  },
  {
   "cell_type": "code",
   "execution_count": 181,
   "metadata": {
    "collapsed": true
   },
   "outputs": [],
   "source": [
    "# saving the user and product factors\n",
    "np.save(\"../data/interim/product_factor_10.npy\", product_factors_10)\n",
    "np.save(\"../data/interim/user_factor_10\", user_factors_10)"
   ]
  },
  {
   "cell_type": "markdown",
   "metadata": {},
   "source": [
    "### Example Recommendations"
   ]
  },
  {
   "cell_type": "code",
   "execution_count": 182,
   "metadata": {},
   "outputs": [
    {
     "data": {
      "text/plain": [
       "206209"
      ]
     },
     "execution_count": 182,
     "metadata": {},
     "output_type": "execute_result"
    }
   ],
   "source": [
    "# Maps user_id: user index\n",
    "u_dict = {uid:i for i, uid in enumerate(df_user_product_prior[\"user_id\"].cat.categories)}\n",
    "len(u_dict)"
   ]
  },
  {
   "cell_type": "code",
   "execution_count": 183,
   "metadata": {},
   "outputs": [
    {
     "data": {
      "text/plain": [
       "49677"
      ]
     },
     "execution_count": 183,
     "metadata": {},
     "output_type": "execute_result"
    }
   ],
   "source": [
    "p_dict = dict(enumerate(df_user_product_prior[\"product_id\"].cat.categories))\n",
    "len(p_dict)"
   ]
  },
  {
   "cell_type": "markdown",
   "metadata": {},
   "source": [
    "We'll use user 1 for this example"
   ]
  },
  {
   "cell_type": "code",
   "execution_count": 184,
   "metadata": {
    "collapsed": true
   },
   "outputs": [],
   "source": [
    "user_id = 1"
   ]
  },
  {
   "cell_type": "markdown",
   "metadata": {},
   "source": [
    "Actual products bought by user 1"
   ]
  },
  {
   "cell_type": "code",
   "execution_count": 185,
   "metadata": {},
   "outputs": [
    {
     "data": {
      "text/plain": [
       "[196, 25133, 38928, 26405, 39657, 10258, 13032, 26088, 27845, 49235, 46149]"
      ]
     },
     "execution_count": 185,
     "metadata": {},
     "output_type": "execute_result"
    }
   ],
   "source": [
    "row = df_user_products_test.loc[df_user_products_test.user_id == user_id]\n",
    "actual = list(row[\"products\"])[0]\n",
    "actual"
   ]
  },
  {
   "cell_type": "code",
   "execution_count": 186,
   "metadata": {},
   "outputs": [
    {
     "name": "stdout",
     "output_type": "stream",
     "text": [
      "Actual products bought by user 1\n",
      "['Soda', 'Organic String Cheese', '0% Greek Strained Yogurt', 'XL Pick-A-Size Paper Towel Rolls', 'Milk Chocolate Almonds', 'Pistachios', 'Cinnamon Toast Crunch', 'Aged White Cheddar Popcorn', 'Organic Whole Milk', 'Organic Half & Half', 'Zero Calorie Cola']\n",
      "\n",
      "\n"
     ]
    }
   ],
   "source": [
    "act_products = []\n",
    "for pid in actual:\n",
    "    act_products.extend((df_products.loc[df_products.product_id == pid].product_name).tolist())\n",
    "print(\"Actual products bought by user {}\\n{}\\n\\n\".format(user_id, act_products))"
   ]
  },
  {
   "cell_type": "code",
   "execution_count": 187,
   "metadata": {},
   "outputs": [
    {
     "data": {
      "text/plain": [
       "[(13172, 2.2325726),\n",
       " (16793, 1.7519463),\n",
       " (6181, 1.0624686),\n",
       " (43344, 1.0334677),\n",
       " (12337, 0.99171036),\n",
       " (195, 0.79686242),\n",
       " (49224, 0.71557862),\n",
       " (13571, 0.49160108),\n",
       " (38920, 0.4824045),\n",
       " (9072, 0.47461775)]"
      ]
     },
     "execution_count": 187,
     "metadata": {},
     "output_type": "execute_result"
    }
   ],
   "source": [
    "scores =  user_factors_10[u_dict[user_id]].dot(product_factors_10)\n",
    "best = np.argpartition(scores, -10)[-10:]\n",
    "recommendations_all = sorted(zip(best, scores[best]), key=lambda x: -x[1])\n",
    "recommendations_all"
   ]
  },
  {
   "cell_type": "markdown",
   "metadata": {},
   "source": [
    "Best recommended products for user 1"
   ]
  },
  {
   "cell_type": "code",
   "execution_count": 188,
   "metadata": {},
   "outputs": [
    {
     "name": "stdout",
     "output_type": "stream",
     "text": [
      "All products recommended to user 1\n",
      "['Bag of Organic Bananas', 'Strawberries', 'Clementines', 'Raspberries', 'Hass Avocados', 'Soda', 'Organic Half & Half', 'Apples', '0% Greek Strained Yogurt', 'Blueberries']\n",
      "\n",
      "\n"
     ]
    }
   ],
   "source": [
    "all_recm_products=[]\n",
    "for recommend in recommendations_all:\n",
    "    all_recm_products.extend((df_products.loc[df_products.product_id == p_dict[recommend[0]]].product_name).tolist())\n",
    "print(\"All products recommended to user {}\\n{}\\n\\n\".format(user_id, all_recm_products))"
   ]
  },
  {
   "cell_type": "code",
   "execution_count": 189,
   "metadata": {
    "collapsed": true
   },
   "outputs": [],
   "source": [
    "bought_indices = utility_matrix[u_dict[user_id]].nonzero()[1]\n",
    "count = 10 + len(bought_indices)\n",
    "ids = np.argpartition(scores, -count)[-count:]\n",
    "best = sorted(zip(ids, scores[ids]), key=lambda x: -x[1])        \n",
    "recommendations_new = list(itertools.islice((rec for rec in best if rec[0] not in bought_indices), 10))"
   ]
  },
  {
   "cell_type": "markdown",
   "metadata": {},
   "source": [
    "New products not previously bought recommended for user 1 "
   ]
  },
  {
   "cell_type": "code",
   "execution_count": 190,
   "metadata": {},
   "outputs": [
    {
     "name": "stdout",
     "output_type": "stream",
     "text": [
      "New products recommended to user 1\n",
      "['Strawberries', 'Clementines', 'Raspberries', 'Hass Avocados', 'Apples', 'Blueberries', 'Organic Baby Spinach', 'Blackberries', 'Packaged Grape Tomatoes', 'Baby Cucumbers']\n"
     ]
    }
   ],
   "source": [
    "new_recm_products=[]\n",
    "for recommend in recommendations_new:\n",
    "    new_recm_products.extend((df_products.loc[df_products.product_id == p_dict[recommend[0]]].product_name).tolist())\n",
    "print(\"New products recommended to user {}\\n{}\".format(user_id, new_recm_products))"
   ]
  },
  {
   "cell_type": "markdown",
   "metadata": {},
   "source": [
    "### Evaluation"
   ]
  },
  {
   "cell_type": "code",
   "execution_count": 191,
   "metadata": {
    "collapsed": true
   },
   "outputs": [],
   "source": [
    "# Transpose of the product_user utility matrix\n",
    "utility_matrix_T = utility_matrix.T.tocsr()"
   ]
  },
  {
   "cell_type": "code",
   "execution_count": 192,
   "metadata": {
    "collapsed": true
   },
   "outputs": [],
   "source": [
    "# Number of recommendations to make for every user\n",
    "N_REC = 10"
   ]
  },
  {
   "cell_type": "code",
   "execution_count": 193,
   "metadata": {
    "collapsed": true
   },
   "outputs": [],
   "source": [
    "# Get the `N_REC` most popular products for comparison\n",
    "popular_products = list(df_order_products__prior[\"product_id\"].value_counts().head(N_REC).index)"
   ]
  },
  {
   "cell_type": "code",
   "execution_count": 194,
   "metadata": {
    "scrolled": true
   },
   "outputs": [
    {
     "data": {
      "text/plain": [
       "[24852, 13176, 21137, 21903, 47209, 47766, 47626, 16797, 26209, 27845]"
      ]
     },
     "execution_count": 194,
     "metadata": {},
     "output_type": "execute_result"
    }
   ],
   "source": [
    "popular_products"
   ]
  },
  {
   "cell_type": "code",
   "execution_count": 195,
   "metadata": {
    "collapsed": true
   },
   "outputs": [],
   "source": [
    "subset = 0.02  # Evaluate on 20% of the dataset"
   ]
  },
  {
   "cell_type": "code",
   "execution_count": 196,
   "metadata": {},
   "outputs": [
    {
     "data": {
      "text/html": [
       "<div>\n",
       "<style>\n",
       "    .dataframe thead tr:only-child th {\n",
       "        text-align: right;\n",
       "    }\n",
       "\n",
       "    .dataframe thead th {\n",
       "        text-align: left;\n",
       "    }\n",
       "\n",
       "    .dataframe tbody tr th {\n",
       "        vertical-align: top;\n",
       "    }\n",
       "</style>\n",
       "<table border=\"1\" class=\"dataframe\">\n",
       "  <thead>\n",
       "    <tr style=\"text-align: right;\">\n",
       "      <th></th>\n",
       "      <th>user_id</th>\n",
       "      <th>products</th>\n",
       "    </tr>\n",
       "  </thead>\n",
       "  <tbody>\n",
       "    <tr>\n",
       "      <th>0</th>\n",
       "      <td>29499</td>\n",
       "      <td>[32650, 2536, 11731, 17493, 32194]</td>\n",
       "    </tr>\n",
       "    <tr>\n",
       "      <th>1</th>\n",
       "      <td>7707</td>\n",
       "      <td>[36144, 12341, 8424, 23165, 30850, 15130, 34229]</td>\n",
       "    </tr>\n",
       "    <tr>\n",
       "      <th>2</th>\n",
       "      <td>125327</td>\n",
       "      <td>[24891, 17506, 6184]</td>\n",
       "    </tr>\n",
       "    <tr>\n",
       "      <th>3</th>\n",
       "      <td>93878</td>\n",
       "      <td>[26759, 13176]</td>\n",
       "    </tr>\n",
       "    <tr>\n",
       "      <th>4</th>\n",
       "      <td>10029</td>\n",
       "      <td>[38223, 34134, 3020, 12020, 10036, 2923, 39468...</td>\n",
       "    </tr>\n",
       "  </tbody>\n",
       "</table>\n",
       "</div>"
      ],
      "text/plain": [
       "   user_id                                           products\n",
       "0    29499                 [32650, 2536, 11731, 17493, 32194]\n",
       "1     7707   [36144, 12341, 8424, 23165, 30850, 15130, 34229]\n",
       "2   125327                               [24891, 17506, 6184]\n",
       "3    93878                                     [26759, 13176]\n",
       "4    10029  [38223, 34134, 3020, 12020, 10036, 2923, 39468..."
      ]
     },
     "execution_count": 196,
     "metadata": {},
     "output_type": "execute_result"
    }
   ],
   "source": [
    "df_eval = df_user_products_test.copy()\n",
    "df_eval = df_eval.sample(n=int(len(df_eval) * subset)).reset_index(drop=True)\n",
    "df_eval.head()"
   ]
  },
  {
   "cell_type": "code",
   "execution_count": 197,
   "metadata": {
    "scrolled": true
   },
   "outputs": [
    {
     "name": "stdout",
     "output_type": "stream",
     "text": [
      "<class 'pandas.core.frame.DataFrame'>\n",
      "RangeIndex: 2624 entries, 0 to 2623\n",
      "Data columns (total 2 columns):\n",
      "user_id     2624 non-null int64\n",
      "products    2624 non-null object\n",
      "dtypes: int64(1), object(1)\n",
      "memory usage: 41.1+ KB\n"
     ]
    }
   ],
   "source": [
    "df_eval.info()"
   ]
  },
  {
   "cell_type": "markdown",
   "metadata": {},
   "source": [
    "The columns of products bought by the user in the past and new products in the cart will help evaluate the recall of each recommender model. "
   ]
  },
  {
   "cell_type": "code",
   "execution_count": 198,
   "metadata": {
    "collapsed": true
   },
   "outputs": [],
   "source": [
    "def past_products(row):\n",
    "    return set([p_dict[i] for i in utility_matrix[u_dict[row[\"user_id\"]]].indices]) \n",
    "\n",
    "def new_products(row):\n",
    "    return set(row['products']) - set(row['past_products'])"
   ]
  },
  {
   "cell_type": "code",
   "execution_count": 199,
   "metadata": {},
   "outputs": [
    {
     "data": {
      "text/html": [
       "<div>\n",
       "<style>\n",
       "    .dataframe thead tr:only-child th {\n",
       "        text-align: right;\n",
       "    }\n",
       "\n",
       "    .dataframe thead th {\n",
       "        text-align: left;\n",
       "    }\n",
       "\n",
       "    .dataframe tbody tr th {\n",
       "        vertical-align: top;\n",
       "    }\n",
       "</style>\n",
       "<table border=\"1\" class=\"dataframe\">\n",
       "  <thead>\n",
       "    <tr style=\"text-align: right;\">\n",
       "      <th></th>\n",
       "      <th>user_id</th>\n",
       "      <th>products</th>\n",
       "      <th>past_products</th>\n",
       "      <th>new_products</th>\n",
       "    </tr>\n",
       "  </thead>\n",
       "  <tbody>\n",
       "    <tr>\n",
       "      <th>0</th>\n",
       "      <td>29499</td>\n",
       "      <td>[32650, 2536, 11731, 17493, 32194]</td>\n",
       "      <td>{32650, 36106, 16652, 48532, 42525, 3873, 3012...</td>\n",
       "      <td>{32194}</td>\n",
       "    </tr>\n",
       "    <tr>\n",
       "      <th>1</th>\n",
       "      <td>7707</td>\n",
       "      <td>[36144, 12341, 8424, 23165, 30850, 15130, 34229]</td>\n",
       "      <td>{34050, 46088, 26505, 38154, 47626, 11022, 190...</td>\n",
       "      <td>{8424, 30850, 12341, 34229}</td>\n",
       "    </tr>\n",
       "    <tr>\n",
       "      <th>2</th>\n",
       "      <td>125327</td>\n",
       "      <td>[24891, 17506, 6184]</td>\n",
       "      <td>{22657, 19459, 47626, 48523, 913, 24850, 35221...</td>\n",
       "      <td>{17506, 24891}</td>\n",
       "    </tr>\n",
       "    <tr>\n",
       "      <th>3</th>\n",
       "      <td>93878</td>\n",
       "      <td>[26759, 13176]</td>\n",
       "      <td>{10371, 7751, 26759, 9358, 48532, 12341, 41558...</td>\n",
       "      <td>{13176}</td>\n",
       "    </tr>\n",
       "    <tr>\n",
       "      <th>4</th>\n",
       "      <td>10029</td>\n",
       "      <td>[38223, 34134, 3020, 12020, 10036, 2923, 39468...</td>\n",
       "      <td>{2067, 49683, 1559, 23579, 20512, 47144, 6187,...</td>\n",
       "      <td>{29156, 19366, 13225, 329, 2923, 39468, 3020, ...</td>\n",
       "    </tr>\n",
       "  </tbody>\n",
       "</table>\n",
       "</div>"
      ],
      "text/plain": [
       "   user_id                                           products  \\\n",
       "0    29499                 [32650, 2536, 11731, 17493, 32194]   \n",
       "1     7707   [36144, 12341, 8424, 23165, 30850, 15130, 34229]   \n",
       "2   125327                               [24891, 17506, 6184]   \n",
       "3    93878                                     [26759, 13176]   \n",
       "4    10029  [38223, 34134, 3020, 12020, 10036, 2923, 39468...   \n",
       "\n",
       "                                       past_products  \\\n",
       "0  {32650, 36106, 16652, 48532, 42525, 3873, 3012...   \n",
       "1  {34050, 46088, 26505, 38154, 47626, 11022, 190...   \n",
       "2  {22657, 19459, 47626, 48523, 913, 24850, 35221...   \n",
       "3  {10371, 7751, 26759, 9358, 48532, 12341, 41558...   \n",
       "4  {2067, 49683, 1559, 23579, 20512, 47144, 6187,...   \n",
       "\n",
       "                                        new_products  \n",
       "0                                            {32194}  \n",
       "1                        {8424, 30850, 12341, 34229}  \n",
       "2                                     {17506, 24891}  \n",
       "3                                            {13176}  \n",
       "4  {29156, 19366, 13225, 329, 2923, 39468, 3020, ...  "
      ]
     },
     "execution_count": 199,
     "metadata": {},
     "output_type": "execute_result"
    }
   ],
   "source": [
    "df_eval['past_products'] = df_eval.apply(past_products, axis=1)\n",
    "\n",
    "df_eval['new_products'] = df_eval.apply(new_products, axis=1)\n",
    "\n",
    "df_eval.head()"
   ]
  },
  {
   "cell_type": "code",
   "execution_count": 200,
   "metadata": {
    "collapsed": true
   },
   "outputs": [],
   "source": [
    "def recall_popular(row):\n",
    "    new_products = set(row['new_products'])\n",
    "    \n",
    "    if len(new_products) == 0:\n",
    "        return 0\n",
    "\n",
    "    return len(new_products.intersection(popular_products)) / len(new_products)\n",
    "\n",
    "popular_products = set(popular_products)\n",
    "\n",
    "df_eval['Recall_Top_Recommended'] = df_eval.apply(recall_popular, axis=1)"
   ]
  },
  {
   "cell_type": "code",
   "execution_count": 201,
   "metadata": {
    "scrolled": false
   },
   "outputs": [
    {
     "name": "stdout",
     "output_type": "stream",
     "text": [
      "Popular recommendations recall: 3.07%\n"
     ]
    }
   ],
   "source": [
    "print(\"Popular recommendations recall: {:.2f}%\".format(df_eval.Recall_Top_Recommended.mean() * 100))"
   ]
  },
  {
   "cell_type": "code",
   "execution_count": 202,
   "metadata": {
    "collapsed": true
   },
   "outputs": [],
   "source": [
    "def recall_SVD_factor(row, user_factors, product_factors):\n",
    "    new_products = set(row['new_products'])\n",
    "    \n",
    "    if len(new_products) == 0:\n",
    "        return 0\n",
    "\n",
    "    scores =  user_factors[u_dict[row[\"user_id\"]]].dot(product_factors)\n",
    "\n",
    "    bought_indices = utility_matrix[u_dict[row[\"user_id\"]]].nonzero()[1]\n",
    "\n",
    "    count = 10 + len(bought_indices)\n",
    "    ids = np.argpartition(scores, -count)[-count:]\n",
    "    best = sorted(zip(ids, scores[ids]), key=lambda x: -x[1])\n",
    "\n",
    "    recommendations_new = list(itertools.islice((rec for rec in best if rec[0] not in bought_indices), 10))\n",
    "        \n",
    "    SVD_recommends = [p_dict[r[0]] for r in recommendations_new]  \n",
    "    pred = set(SVD_recommends)\n",
    "\n",
    "    return len(new_products.intersection(pred)) / len(new_products)\n",
    "\n",
    "df_eval['Recall_SVD'] = df_eval.apply(recall_SVD_factor,args=(user_factors_10, product_factors_10), axis=1)"
   ]
  },
  {
   "cell_type": "code",
   "execution_count": 203,
   "metadata": {},
   "outputs": [
    {
     "name": "stdout",
     "output_type": "stream",
     "text": [
      "SVD recommendations recall: 3.63%\n"
     ]
    }
   ],
   "source": [
    "print(\"SVD recommendations recall: {:.2f}%\".format(df_eval.Recall_SVD.mean() * 100))"
   ]
  },
  {
   "cell_type": "markdown",
   "metadata": {},
   "source": [
    "The 10 factor SVD performs slightly better than the Baseline Model, but we can try searching for the best factor parameter."
   ]
  },
  {
   "cell_type": "markdown",
   "metadata": {},
   "source": [
    "### SVD Optimization"
   ]
  },
  {
   "cell_type": "code",
   "execution_count": 204,
   "metadata": {},
   "outputs": [
    {
     "name": "stdout",
     "output_type": "stream",
     "text": [
      "Starting factor 1\n",
      "Starting factor 2\n",
      "Starting factor 3\n",
      "Starting factor 4\n",
      "Starting factor 5\n",
      "Starting factor 6\n",
      "Starting factor 7\n",
      "Starting factor 8\n",
      "Starting factor 9\n",
      "Starting factor 10\n",
      "Starting factor 20\n",
      "Starting factor 30\n",
      "Starting factor 40\n",
      "Starting factor 50\n",
      "Starting factor 60\n"
     ]
    }
   ],
   "source": [
    "factor_list = chain(range(1,10), range(10,70,10))\n",
    "SVD_factor_recalls = {}\n",
    "\n",
    "for factor in factor_list:\n",
    "    print(\"Starting factor\",factor)\n",
    "    #Calculating the product and user factors\n",
    "    user_factors, singular_values,product_factors = linalg.svds(utility_matrix, factor)\n",
    "    user_factors=user_factors*singular_values\n",
    "    \n",
    "    df_eval[factor] = df_eval.apply(recall_SVD_factor,args=(user_factors, product_factors), axis=1)\n",
    "    SVD_factor_recalls[factor] = df_eval[factor].mean() * 100"
   ]
  },
  {
   "cell_type": "code",
   "execution_count": 205,
   "metadata": {},
   "outputs": [
    {
     "data": {
      "image/png": "[encoded data removed]",
      "text/plain": [
       "<matplotlib.figure.Figure at 0x7f4b951c10b8>"
      ]
     },
     "metadata": {},
     "output_type": "display_data"
    }
   ],
   "source": [
    "plt.figure(figsize=(12,10))\n",
    "plt.plot(SVD_factor_recalls.keys(),SVD_factor_recalls.values())\n",
    "plt.ylabel('Recall')\n",
    "plt.xlabel('Factors')\n",
    "plt.title('SVD Recall by factor')\n",
    "plt.show()"
   ]
  },
  {
   "cell_type": "code",
   "execution_count": 207,
   "metadata": {},
   "outputs": [
    {
     "name": "stdout",
     "output_type": "stream",
     "text": [
      "SVD Best number of factors is 7 with a recall of 3.7759030766807555.\n"
     ]
    }
   ],
   "source": [
    "max_recall = max(SVD_factor_recalls.values())\n",
    "best_factor = list(SVD_factor_recalls.keys())[list(SVD_factor_recalls.values()).index(max_recall)]\n",
    "print(\"SVD Best number of factors is {} with a recall of {}.\".format(best_factor,max_recall))"
   ]
  },
  {
   "cell_type": "markdown",
   "metadata": {},
   "source": [
    "## Implicit Matrix Factorization using ALS"
   ]
  },
  {
   "cell_type": "code",
   "execution_count": 208,
   "metadata": {},
   "outputs": [
    {
     "name": "stdout",
     "output_type": "stream",
     "text": [
      "env: OPENBLAS_NUM_THREADS=1\n"
     ]
    }
   ],
   "source": [
    "#Fix to get ALS library to work as fast as possible\n",
    "%env OPENBLAS_NUM_THREADS=1"
   ]
  },
  {
   "cell_type": "code",
   "execution_count": 209,
   "metadata": {
    "collapsed": true
   },
   "outputs": [],
   "source": [
    "def build_imf(utility_matrix, alpha):\n",
    "    model = AlternatingLeastSquares()\n",
    "    model.approximate_similar_items = False\n",
    "    model.fit((utility_matrix * alpha).astype(\"double\"))\n",
    "    \n",
    "    return model\n",
    "\n",
    "imf_model = build_imf(utility_matrix.T, 10)"
   ]
  },
  {
   "cell_type": "markdown",
   "metadata": {},
   "source": [
    "### Example Recommendation"
   ]
  },
  {
   "cell_type": "code",
   "execution_count": 210,
   "metadata": {
    "collapsed": true
   },
   "outputs": [],
   "source": [
    "recommendations = imf_model.recommend(u_dict[user_id], utility_matrix.T, N = 10)"
   ]
  },
  {
   "cell_type": "code",
   "execution_count": 211,
   "metadata": {},
   "outputs": [
    {
     "data": {
      "text/plain": [
       "[196, 25133, 38928, 26405, 39657, 10258, 13032, 26088, 27845, 49235, 46149]"
      ]
     },
     "execution_count": 211,
     "metadata": {},
     "output_type": "execute_result"
    }
   ],
   "source": [
    "row = df_user_products_test.loc[df_user_products_test.user_id == user_id]\n",
    "actual = list(row[\"products\"])[0]\n",
    "actual"
   ]
  },
  {
   "cell_type": "code",
   "execution_count": 212,
   "metadata": {},
   "outputs": [
    {
     "name": "stdout",
     "output_type": "stream",
     "text": [
      "Actual products bought by user 1\n",
      "['Soda', 'Organic String Cheese', '0% Greek Strained Yogurt', 'XL Pick-A-Size Paper Towel Rolls', 'Milk Chocolate Almonds', 'Pistachios', 'Cinnamon Toast Crunch', 'Aged White Cheddar Popcorn', 'Organic Whole Milk', 'Organic Half & Half', 'Zero Calorie Cola']\n",
      "\n",
      "\n"
     ]
    }
   ],
   "source": [
    "act_products = []\n",
    "for pid in actual:\n",
    "    act_products.extend((df_products.loc[df_products.product_id == pid].product_name).tolist())\n",
    "print(\"Actual products bought by user {}\\n{}\\n\\n\".format(user_id, act_products))"
   ]
  },
  {
   "cell_type": "markdown",
   "metadata": {},
   "source": [
    "Recommended products"
   ]
  },
  {
   "cell_type": "code",
   "execution_count": 213,
   "metadata": {},
   "outputs": [
    {
     "name": "stdout",
     "output_type": "stream",
     "text": [
      "New products recommended to user 1\n",
      "['Soda', 'Extra Fancy Unsalted Mixed Nuts', 'Bag of Organic Bananas', 'Trail Mix', 'Original Beef Jerky', '0% Greek Strained Yogurt', 'Zero Calorie Cola', 'Milk Chocolate Almonds', 'Organic Half & Half', 'Organic Unsweetened Almond Milk']\n"
     ]
    }
   ],
   "source": [
    "new_recm_products=[]\n",
    "for recommend in recommendations:\n",
    "    new_recm_products.extend((df_products.loc[df_products.product_id == p_dict[recommend[0]]].product_name).tolist())\n",
    "print(\"New products recommended to user {}\\n{}\".format(user_id, new_recm_products))"
   ]
  },
  {
   "cell_type": "markdown",
   "metadata": {},
   "source": [
    "### Evaluation"
   ]
  },
  {
   "cell_type": "code",
   "execution_count": 214,
   "metadata": {},
   "outputs": [
    {
     "data": {
      "text/html": [
       "<div>\n",
       "<style>\n",
       "    .dataframe thead tr:only-child th {\n",
       "        text-align: right;\n",
       "    }\n",
       "\n",
       "    .dataframe thead th {\n",
       "        text-align: left;\n",
       "    }\n",
       "\n",
       "    .dataframe tbody tr th {\n",
       "        vertical-align: top;\n",
       "    }\n",
       "</style>\n",
       "<table border=\"1\" class=\"dataframe\">\n",
       "  <thead>\n",
       "    <tr style=\"text-align: right;\">\n",
       "      <th></th>\n",
       "      <th>user_id</th>\n",
       "      <th>products</th>\n",
       "      <th>past_products</th>\n",
       "      <th>new_products</th>\n",
       "      <th>Recall_Top_Recommended</th>\n",
       "      <th>Recall_SVD</th>\n",
       "      <th>1</th>\n",
       "      <th>2</th>\n",
       "      <th>3</th>\n",
       "      <th>4</th>\n",
       "      <th>...</th>\n",
       "      <th>6</th>\n",
       "      <th>7</th>\n",
       "      <th>8</th>\n",
       "      <th>9</th>\n",
       "      <th>10</th>\n",
       "      <th>20</th>\n",
       "      <th>30</th>\n",
       "      <th>40</th>\n",
       "      <th>50</th>\n",
       "      <th>60</th>\n",
       "    </tr>\n",
       "  </thead>\n",
       "  <tbody>\n",
       "    <tr>\n",
       "      <th>0</th>\n",
       "      <td>29499</td>\n",
       "      <td>[32650, 2536, 11731, 17493, 32194]</td>\n",
       "      <td>{32650, 36106, 16652, 48532, 42525, 3873, 3012...</td>\n",
       "      <td>{32194}</td>\n",
       "      <td>0.0</td>\n",
       "      <td>0.00</td>\n",
       "      <td>0.0</td>\n",
       "      <td>0.0</td>\n",
       "      <td>0.0</td>\n",
       "      <td>0.00</td>\n",
       "      <td>...</td>\n",
       "      <td>0.00</td>\n",
       "      <td>0.0</td>\n",
       "      <td>0.00</td>\n",
       "      <td>0.00</td>\n",
       "      <td>0.00</td>\n",
       "      <td>0.00</td>\n",
       "      <td>0.0</td>\n",
       "      <td>0.00</td>\n",
       "      <td>0.00</td>\n",
       "      <td>0.0</td>\n",
       "    </tr>\n",
       "    <tr>\n",
       "      <th>1</th>\n",
       "      <td>7707</td>\n",
       "      <td>[36144, 12341, 8424, 23165, 30850, 15130, 34229]</td>\n",
       "      <td>{34050, 46088, 26505, 38154, 47626, 11022, 190...</td>\n",
       "      <td>{8424, 30850, 12341, 34229}</td>\n",
       "      <td>0.0</td>\n",
       "      <td>0.25</td>\n",
       "      <td>0.0</td>\n",
       "      <td>0.0</td>\n",
       "      <td>0.0</td>\n",
       "      <td>0.25</td>\n",
       "      <td>...</td>\n",
       "      <td>0.25</td>\n",
       "      <td>0.0</td>\n",
       "      <td>0.25</td>\n",
       "      <td>0.25</td>\n",
       "      <td>0.25</td>\n",
       "      <td>0.25</td>\n",
       "      <td>0.0</td>\n",
       "      <td>0.25</td>\n",
       "      <td>0.25</td>\n",
       "      <td>0.0</td>\n",
       "    </tr>\n",
       "    <tr>\n",
       "      <th>2</th>\n",
       "      <td>125327</td>\n",
       "      <td>[24891, 17506, 6184]</td>\n",
       "      <td>{22657, 19459, 47626, 48523, 913, 24850, 35221...</td>\n",
       "      <td>{17506, 24891}</td>\n",
       "      <td>0.0</td>\n",
       "      <td>0.00</td>\n",
       "      <td>0.0</td>\n",
       "      <td>0.0</td>\n",
       "      <td>0.0</td>\n",
       "      <td>0.00</td>\n",
       "      <td>...</td>\n",
       "      <td>0.00</td>\n",
       "      <td>0.0</td>\n",
       "      <td>0.00</td>\n",
       "      <td>0.00</td>\n",
       "      <td>0.00</td>\n",
       "      <td>0.00</td>\n",
       "      <td>0.0</td>\n",
       "      <td>0.00</td>\n",
       "      <td>0.00</td>\n",
       "      <td>0.0</td>\n",
       "    </tr>\n",
       "    <tr>\n",
       "      <th>3</th>\n",
       "      <td>93878</td>\n",
       "      <td>[26759, 13176]</td>\n",
       "      <td>{10371, 7751, 26759, 9358, 48532, 12341, 41558...</td>\n",
       "      <td>{13176}</td>\n",
       "      <td>1.0</td>\n",
       "      <td>0.00</td>\n",
       "      <td>1.0</td>\n",
       "      <td>1.0</td>\n",
       "      <td>1.0</td>\n",
       "      <td>1.00</td>\n",
       "      <td>...</td>\n",
       "      <td>1.00</td>\n",
       "      <td>1.0</td>\n",
       "      <td>1.00</td>\n",
       "      <td>0.00</td>\n",
       "      <td>0.00</td>\n",
       "      <td>0.00</td>\n",
       "      <td>0.0</td>\n",
       "      <td>0.00</td>\n",
       "      <td>0.00</td>\n",
       "      <td>0.0</td>\n",
       "    </tr>\n",
       "    <tr>\n",
       "      <th>4</th>\n",
       "      <td>10029</td>\n",
       "      <td>[38223, 34134, 3020, 12020, 10036, 2923, 39468...</td>\n",
       "      <td>{2067, 49683, 1559, 23579, 20512, 47144, 6187,...</td>\n",
       "      <td>{29156, 19366, 13225, 329, 2923, 39468, 3020, ...</td>\n",
       "      <td>0.0</td>\n",
       "      <td>0.00</td>\n",
       "      <td>0.0</td>\n",
       "      <td>0.0</td>\n",
       "      <td>0.0</td>\n",
       "      <td>0.00</td>\n",
       "      <td>...</td>\n",
       "      <td>0.00</td>\n",
       "      <td>0.0</td>\n",
       "      <td>0.00</td>\n",
       "      <td>0.00</td>\n",
       "      <td>0.00</td>\n",
       "      <td>0.00</td>\n",
       "      <td>0.0</td>\n",
       "      <td>0.00</td>\n",
       "      <td>0.00</td>\n",
       "      <td>0.0</td>\n",
       "    </tr>\n",
       "  </tbody>\n",
       "</table>\n",
       "<p>5 rows × 21 columns</p>\n",
       "</div>"
      ],
      "text/plain": [
       "   user_id                                           products  \\\n",
       "0    29499                 [32650, 2536, 11731, 17493, 32194]   \n",
       "1     7707   [36144, 12341, 8424, 23165, 30850, 15130, 34229]   \n",
       "2   125327                               [24891, 17506, 6184]   \n",
       "3    93878                                     [26759, 13176]   \n",
       "4    10029  [38223, 34134, 3020, 12020, 10036, 2923, 39468...   \n",
       "\n",
       "                                       past_products  \\\n",
       "0  {32650, 36106, 16652, 48532, 42525, 3873, 3012...   \n",
       "1  {34050, 46088, 26505, 38154, 47626, 11022, 190...   \n",
       "2  {22657, 19459, 47626, 48523, 913, 24850, 35221...   \n",
       "3  {10371, 7751, 26759, 9358, 48532, 12341, 41558...   \n",
       "4  {2067, 49683, 1559, 23579, 20512, 47144, 6187,...   \n",
       "\n",
       "                                        new_products  Recall_Top_Recommended  \\\n",
       "0                                            {32194}                     0.0   \n",
       "1                        {8424, 30850, 12341, 34229}                     0.0   \n",
       "2                                     {17506, 24891}                     0.0   \n",
       "3                                            {13176}                     1.0   \n",
       "4  {29156, 19366, 13225, 329, 2923, 39468, 3020, ...                     0.0   \n",
       "\n",
       "   Recall_SVD    1    2    3     4 ...      6    7     8     9    10    20  \\\n",
       "0        0.00  0.0  0.0  0.0  0.00 ...   0.00  0.0  0.00  0.00  0.00  0.00   \n",
       "1        0.25  0.0  0.0  0.0  0.25 ...   0.25  0.0  0.25  0.25  0.25  0.25   \n",
       "2        0.00  0.0  0.0  0.0  0.00 ...   0.00  0.0  0.00  0.00  0.00  0.00   \n",
       "3        0.00  1.0  1.0  1.0  1.00 ...   1.00  1.0  1.00  0.00  0.00  0.00   \n",
       "4        0.00  0.0  0.0  0.0  0.00 ...   0.00  0.0  0.00  0.00  0.00  0.00   \n",
       "\n",
       "    30    40    50   60  \n",
       "0  0.0  0.00  0.00  0.0  \n",
       "1  0.0  0.25  0.25  0.0  \n",
       "2  0.0  0.00  0.00  0.0  \n",
       "3  0.0  0.00  0.00  0.0  \n",
       "4  0.0  0.00  0.00  0.0  \n",
       "\n",
       "[5 rows x 21 columns]"
      ]
     },
     "execution_count": 214,
     "metadata": {},
     "output_type": "execute_result"
    }
   ],
   "source": [
    "df_eval.head()"
   ]
  },
  {
   "cell_type": "code",
   "execution_count": 215,
   "metadata": {
    "collapsed": true
   },
   "outputs": [],
   "source": [
    "df_eval.drop([1,2,3,4,5,6,7,8,9,10,20,30,40,50,60], axis=1, inplace=True)"
   ]
  },
  {
   "cell_type": "code",
   "execution_count": 216,
   "metadata": {},
   "outputs": [
    {
     "data": {
      "text/html": [
       "<div>\n",
       "<style>\n",
       "    .dataframe thead tr:only-child th {\n",
       "        text-align: right;\n",
       "    }\n",
       "\n",
       "    .dataframe thead th {\n",
       "        text-align: left;\n",
       "    }\n",
       "\n",
       "    .dataframe tbody tr th {\n",
       "        vertical-align: top;\n",
       "    }\n",
       "</style>\n",
       "<table border=\"1\" class=\"dataframe\">\n",
       "  <thead>\n",
       "    <tr style=\"text-align: right;\">\n",
       "      <th></th>\n",
       "      <th>user_id</th>\n",
       "      <th>products</th>\n",
       "      <th>past_products</th>\n",
       "      <th>new_products</th>\n",
       "      <th>Recall_Top_Recommended</th>\n",
       "      <th>Recall_SVD</th>\n",
       "    </tr>\n",
       "  </thead>\n",
       "  <tbody>\n",
       "    <tr>\n",
       "      <th>0</th>\n",
       "      <td>29499</td>\n",
       "      <td>[32650, 2536, 11731, 17493, 32194]</td>\n",
       "      <td>{32650, 36106, 16652, 48532, 42525, 3873, 3012...</td>\n",
       "      <td>{32194}</td>\n",
       "      <td>0.0</td>\n",
       "      <td>0.00</td>\n",
       "    </tr>\n",
       "    <tr>\n",
       "      <th>1</th>\n",
       "      <td>7707</td>\n",
       "      <td>[36144, 12341, 8424, 23165, 30850, 15130, 34229]</td>\n",
       "      <td>{34050, 46088, 26505, 38154, 47626, 11022, 190...</td>\n",
       "      <td>{8424, 30850, 12341, 34229}</td>\n",
       "      <td>0.0</td>\n",
       "      <td>0.25</td>\n",
       "    </tr>\n",
       "    <tr>\n",
       "      <th>2</th>\n",
       "      <td>125327</td>\n",
       "      <td>[24891, 17506, 6184]</td>\n",
       "      <td>{22657, 19459, 47626, 48523, 913, 24850, 35221...</td>\n",
       "      <td>{17506, 24891}</td>\n",
       "      <td>0.0</td>\n",
       "      <td>0.00</td>\n",
       "    </tr>\n",
       "    <tr>\n",
       "      <th>3</th>\n",
       "      <td>93878</td>\n",
       "      <td>[26759, 13176]</td>\n",
       "      <td>{10371, 7751, 26759, 9358, 48532, 12341, 41558...</td>\n",
       "      <td>{13176}</td>\n",
       "      <td>1.0</td>\n",
       "      <td>0.00</td>\n",
       "    </tr>\n",
       "    <tr>\n",
       "      <th>4</th>\n",
       "      <td>10029</td>\n",
       "      <td>[38223, 34134, 3020, 12020, 10036, 2923, 39468...</td>\n",
       "      <td>{2067, 49683, 1559, 23579, 20512, 47144, 6187,...</td>\n",
       "      <td>{29156, 19366, 13225, 329, 2923, 39468, 3020, ...</td>\n",
       "      <td>0.0</td>\n",
       "      <td>0.00</td>\n",
       "    </tr>\n",
       "  </tbody>\n",
       "</table>\n",
       "</div>"
      ],
      "text/plain": [
       "   user_id                                           products  \\\n",
       "0    29499                 [32650, 2536, 11731, 17493, 32194]   \n",
       "1     7707   [36144, 12341, 8424, 23165, 30850, 15130, 34229]   \n",
       "2   125327                               [24891, 17506, 6184]   \n",
       "3    93878                                     [26759, 13176]   \n",
       "4    10029  [38223, 34134, 3020, 12020, 10036, 2923, 39468...   \n",
       "\n",
       "                                       past_products  \\\n",
       "0  {32650, 36106, 16652, 48532, 42525, 3873, 3012...   \n",
       "1  {34050, 46088, 26505, 38154, 47626, 11022, 190...   \n",
       "2  {22657, 19459, 47626, 48523, 913, 24850, 35221...   \n",
       "3  {10371, 7751, 26759, 9358, 48532, 12341, 41558...   \n",
       "4  {2067, 49683, 1559, 23579, 20512, 47144, 6187,...   \n",
       "\n",
       "                                        new_products  Recall_Top_Recommended  \\\n",
       "0                                            {32194}                     0.0   \n",
       "1                        {8424, 30850, 12341, 34229}                     0.0   \n",
       "2                                     {17506, 24891}                     0.0   \n",
       "3                                            {13176}                     1.0   \n",
       "4  {29156, 19366, 13225, 329, 2923, 39468, 3020, ...                     0.0   \n",
       "\n",
       "   Recall_SVD  \n",
       "0        0.00  \n",
       "1        0.25  \n",
       "2        0.00  \n",
       "3        0.00  \n",
       "4        0.00  "
      ]
     },
     "execution_count": 216,
     "metadata": {},
     "output_type": "execute_result"
    }
   ],
   "source": [
    "df_eval.head()"
   ]
  },
  {
   "cell_type": "code",
   "execution_count": 217,
   "metadata": {
    "collapsed": true
   },
   "outputs": [],
   "source": [
    "def recall_IMF(row):\n",
    "    new_products = set(row['new_products'])\n",
    "    if len(new_products) == 0:\n",
    "        return 0\n",
    "\n",
    "    bought_indices = utility_matrix[u_dict[row[\"user_id\"]]].nonzero()[1]\n",
    "    best = imf_model.recommend(u_dict[row[\"user_id\"]], utility_matrix, N = 10)\n",
    "    recommendations_new = list(itertools.islice((rec for rec in best if rec[0] not in bought_indices), 10))\n",
    "    \n",
    "    IMF_recommends = [p_dict[r[0]] for r in recommendations_new]  \n",
    "    pred = set(IMF_recommends)\n",
    "\n",
    "    return len(new_products.intersection(pred)) / len(new_products)\n",
    "\n",
    "df_eval['Recall_IMF'] = df_eval.apply(recall_IMF, axis=1)"
   ]
  },
  {
   "cell_type": "code",
   "execution_count": 218,
   "metadata": {},
   "outputs": [
    {
     "name": "stdout",
     "output_type": "stream",
     "text": [
      "IMF recommendations recall: 4.31%\n"
     ]
    }
   ],
   "source": [
    "print(\"IMF recommendations recall: {:.2f}%\".format(df_eval.Recall_IMF.mean() * 100))"
   ]
  },
  {
   "cell_type": "markdown",
   "metadata": {},
   "source": [
    "### IMF Optimization"
   ]
  },
  {
   "cell_type": "markdown",
   "metadata": {},
   "source": [
    "Defining the alphas that we will analyze"
   ]
  },
  {
   "cell_type": "code",
   "execution_count": 219,
   "metadata": {
    "collapsed": true
   },
   "outputs": [],
   "source": [
    "alpha_list = range(3,20,1)"
   ]
  },
  {
   "cell_type": "code",
   "execution_count": 220,
   "metadata": {},
   "outputs": [
    {
     "name": "stdout",
     "output_type": "stream",
     "text": [
      "Starting alpha 3\n",
      "Starting alpha 4\n",
      "Starting alpha 5\n",
      "Starting alpha 6\n",
      "Starting alpha 7\n",
      "Starting alpha 8\n",
      "Starting alpha 9\n",
      "Starting alpha 10\n",
      "Starting alpha 11\n",
      "Starting alpha 12\n",
      "Starting alpha 13\n",
      "Starting alpha 14\n",
      "Starting alpha 15\n",
      "Starting alpha 16\n",
      "Starting alpha 17\n",
      "Starting alpha 18\n",
      "Starting alpha 19\n"
     ]
    }
   ],
   "source": [
    "IMF_alpha_recalls = {}\n",
    "\n",
    "for alpha in alpha_list:\n",
    "    print(\"Starting alpha\",alpha)\n",
    "\n",
    "    imf_model = build_imf(utility_matrix.T, alpha);\n",
    "    \n",
    "    df_eval[alpha] = df_eval.apply(recall_IMF, axis=1)\n",
    "    IMF_alpha_recalls[alpha] = df_eval[alpha].mean() * 100"
   ]
  },
  {
   "cell_type": "code",
   "execution_count": 221,
   "metadata": {},
   "outputs": [
    {
     "data": {
      "image/png": "[encoded data removed]",
      "text/plain": [
       "<matplotlib.figure.Figure at 0x7f4c48642630>"
      ]
     },
     "metadata": {},
     "output_type": "display_data"
    }
   ],
   "source": [
    "plt.figure(figsize=(12,10))\n",
    "plt.plot(IMF_alpha_recalls.keys(),IMF_alpha_recalls.values())\n",
    "plt.ylabel('Recall')\n",
    "plt.xlabel('Alpha')\n",
    "plt.title('IMF Recall by alpha')\n",
    "plt.show()"
   ]
  },
  {
   "cell_type": "code",
   "execution_count": 222,
   "metadata": {},
   "outputs": [
    {
     "name": "stdout",
     "output_type": "stream",
     "text": [
      "SVD Best number of factors is 10 with a recall of 4.547857104947348.\n"
     ]
    }
   ],
   "source": [
    "max_recall = max(IMF_alpha_recalls.values())\n",
    "best_alpha = list(IMF_alpha_recalls.keys())[list(IMF_alpha_recalls.values()).index(max_recall)]\n",
    "print(\"SVD Best number of factors is {} with a recall of {}.\".format(best_alpha,max_recall))"
   ]
  },
  {
   "cell_type": "markdown",
   "metadata": {},
   "source": [
    "## TF-IDF"
   ]
  },
  {
   "cell_type": "code",
   "execution_count": 71,
   "metadata": {},
   "outputs": [
    {
     "data": {
      "text/html": [
       "<div>\n",
       "<style>\n",
       "    .dataframe thead tr:only-child th {\n",
       "        text-align: right;\n",
       "    }\n",
       "\n",
       "    .dataframe thead th {\n",
       "        text-align: left;\n",
       "    }\n",
       "\n",
       "    .dataframe tbody tr th {\n",
       "        vertical-align: top;\n",
       "    }\n",
       "</style>\n",
       "<table border=\"1\" class=\"dataframe\">\n",
       "  <thead>\n",
       "    <tr style=\"text-align: right;\">\n",
       "      <th></th>\n",
       "      <th>user_id</th>\n",
       "      <th>product_id</th>\n",
       "      <th>quantity</th>\n",
       "    </tr>\n",
       "  </thead>\n",
       "  <tbody>\n",
       "    <tr>\n",
       "      <th>0</th>\n",
       "      <td>1</td>\n",
       "      <td>196</td>\n",
       "      <td>10</td>\n",
       "    </tr>\n",
       "    <tr>\n",
       "      <th>1</th>\n",
       "      <td>1</td>\n",
       "      <td>10258</td>\n",
       "      <td>9</td>\n",
       "    </tr>\n",
       "    <tr>\n",
       "      <th>2</th>\n",
       "      <td>1</td>\n",
       "      <td>10326</td>\n",
       "      <td>1</td>\n",
       "    </tr>\n",
       "    <tr>\n",
       "      <th>3</th>\n",
       "      <td>1</td>\n",
       "      <td>12427</td>\n",
       "      <td>10</td>\n",
       "    </tr>\n",
       "    <tr>\n",
       "      <th>4</th>\n",
       "      <td>1</td>\n",
       "      <td>13032</td>\n",
       "      <td>3</td>\n",
       "    </tr>\n",
       "  </tbody>\n",
       "</table>\n",
       "</div>"
      ],
      "text/plain": [
       "  user_id product_id  quantity\n",
       "0       1        196        10\n",
       "1       1      10258         9\n",
       "2       1      10326         1\n",
       "3       1      12427        10\n",
       "4       1      13032         3"
      ]
     },
     "execution_count": 71,
     "metadata": {},
     "output_type": "execute_result"
    }
   ],
   "source": [
    "df_user_product_prior.head()"
   ]
  },
  {
   "cell_type": "code",
   "execution_count": 72,
   "metadata": {},
   "outputs": [
    {
     "data": {
      "text/html": [
       "<div>\n",
       "<style>\n",
       "    .dataframe thead tr:only-child th {\n",
       "        text-align: right;\n",
       "    }\n",
       "\n",
       "    .dataframe thead th {\n",
       "        text-align: left;\n",
       "    }\n",
       "\n",
       "    .dataframe tbody tr th {\n",
       "        vertical-align: top;\n",
       "    }\n",
       "</style>\n",
       "<table border=\"1\" class=\"dataframe\">\n",
       "  <thead>\n",
       "    <tr style=\"text-align: right;\">\n",
       "      <th></th>\n",
       "      <th>order_id</th>\n",
       "      <th>product_id</th>\n",
       "      <th>add_to_cart_order</th>\n",
       "      <th>reordered</th>\n",
       "    </tr>\n",
       "  </thead>\n",
       "  <tbody>\n",
       "    <tr>\n",
       "      <th>0</th>\n",
       "      <td>2</td>\n",
       "      <td>33120</td>\n",
       "      <td>1</td>\n",
       "      <td>1</td>\n",
       "    </tr>\n",
       "    <tr>\n",
       "      <th>1</th>\n",
       "      <td>2</td>\n",
       "      <td>28985</td>\n",
       "      <td>2</td>\n",
       "      <td>1</td>\n",
       "    </tr>\n",
       "    <tr>\n",
       "      <th>2</th>\n",
       "      <td>2</td>\n",
       "      <td>9327</td>\n",
       "      <td>3</td>\n",
       "      <td>0</td>\n",
       "    </tr>\n",
       "    <tr>\n",
       "      <th>3</th>\n",
       "      <td>2</td>\n",
       "      <td>45918</td>\n",
       "      <td>4</td>\n",
       "      <td>1</td>\n",
       "    </tr>\n",
       "    <tr>\n",
       "      <th>4</th>\n",
       "      <td>2</td>\n",
       "      <td>30035</td>\n",
       "      <td>5</td>\n",
       "      <td>0</td>\n",
       "    </tr>\n",
       "  </tbody>\n",
       "</table>\n",
       "</div>"
      ],
      "text/plain": [
       "   order_id  product_id  add_to_cart_order  reordered\n",
       "0         2       33120                  1          1\n",
       "1         2       28985                  2          1\n",
       "2         2        9327                  3          0\n",
       "3         2       45918                  4          1\n",
       "4         2       30035                  5          0"
      ]
     },
     "execution_count": 72,
     "metadata": {},
     "output_type": "execute_result"
    }
   ],
   "source": [
    "df_order_products__prior.head()"
   ]
  },
  {
   "cell_type": "code",
   "execution_count": 73,
   "metadata": {
    "collapsed": true
   },
   "outputs": [],
   "source": [
    "df_order_products_prior = df_order_products__prior[[\"order_id\", \"product_id\"]]\n",
    "df_product_frequency = df_order_products_prior['product_id'].value_counts()\n",
    "\n",
    "df_order_products_prior = df_order_products_prior.groupby(\"order_id\")[\"product_id\"].apply(list).reset_index().rename(columns={\"product_id\": \"products\"})\n",
    "df_prior_user_products = pd.merge(df_order_user_prior, df_order_products_prior, on=\"order_id\")\n",
    "df_prior_user_products = df_prior_user_products[[\"user_id\", \"products\"]]\n",
    "df_prior_user_products = df_prior_user_products.groupby(\"user_id\")[\"products\"].agg(sum).reset_index()"
   ]
  },
  {
   "cell_type": "code",
   "execution_count": 74,
   "metadata": {},
   "outputs": [
    {
     "data": {
      "text/html": [
       "<div>\n",
       "<style>\n",
       "    .dataframe thead tr:only-child th {\n",
       "        text-align: right;\n",
       "    }\n",
       "\n",
       "    .dataframe thead th {\n",
       "        text-align: left;\n",
       "    }\n",
       "\n",
       "    .dataframe tbody tr th {\n",
       "        vertical-align: top;\n",
       "    }\n",
       "</style>\n",
       "<table border=\"1\" class=\"dataframe\">\n",
       "  <thead>\n",
       "    <tr style=\"text-align: right;\">\n",
       "      <th></th>\n",
       "      <th>user_id</th>\n",
       "      <th>products</th>\n",
       "    </tr>\n",
       "  </thead>\n",
       "  <tbody>\n",
       "    <tr>\n",
       "      <th>0</th>\n",
       "      <td>1</td>\n",
       "      <td>[196, 14084, 12427, 26088, 26405, 196, 10258, ...</td>\n",
       "    </tr>\n",
       "    <tr>\n",
       "      <th>1</th>\n",
       "      <td>2</td>\n",
       "      <td>[32792, 47766, 20574, 12000, 48110, 22474, 165...</td>\n",
       "    </tr>\n",
       "    <tr>\n",
       "      <th>2</th>\n",
       "      <td>3</td>\n",
       "      <td>[9387, 17668, 15143, 16797, 39190, 47766, 2190...</td>\n",
       "    </tr>\n",
       "    <tr>\n",
       "      <th>3</th>\n",
       "      <td>4</td>\n",
       "      <td>[36606, 7350, 35469, 2707, 42329, 7160, 1200, ...</td>\n",
       "    </tr>\n",
       "    <tr>\n",
       "      <th>4</th>\n",
       "      <td>5</td>\n",
       "      <td>[15349, 21413, 48775, 28289, 8518, 11777, 3171...</td>\n",
       "    </tr>\n",
       "  </tbody>\n",
       "</table>\n",
       "</div>"
      ],
      "text/plain": [
       "   user_id                                           products\n",
       "0        1  [196, 14084, 12427, 26088, 26405, 196, 10258, ...\n",
       "1        2  [32792, 47766, 20574, 12000, 48110, 22474, 165...\n",
       "2        3  [9387, 17668, 15143, 16797, 39190, 47766, 2190...\n",
       "3        4  [36606, 7350, 35469, 2707, 42329, 7160, 1200, ...\n",
       "4        5  [15349, 21413, 48775, 28289, 8518, 11777, 3171..."
      ]
     },
     "execution_count": 74,
     "metadata": {},
     "output_type": "execute_result"
    }
   ],
   "source": [
    "df_prior_user_products.head()"
   ]
  },
  {
   "cell_type": "code",
   "execution_count": 75,
   "metadata": {},
   "outputs": [
    {
     "data": {
      "text/html": [
       "<div>\n",
       "<style>\n",
       "    .dataframe thead tr:only-child th {\n",
       "        text-align: right;\n",
       "    }\n",
       "\n",
       "    .dataframe thead th {\n",
       "        text-align: left;\n",
       "    }\n",
       "\n",
       "    .dataframe tbody tr th {\n",
       "        vertical-align: top;\n",
       "    }\n",
       "</style>\n",
       "<table border=\"1\" class=\"dataframe\">\n",
       "  <thead>\n",
       "    <tr style=\"text-align: right;\">\n",
       "      <th></th>\n",
       "      <th>frequency</th>\n",
       "    </tr>\n",
       "  </thead>\n",
       "  <tbody>\n",
       "    <tr>\n",
       "      <th>24852</th>\n",
       "      <td>472565</td>\n",
       "    </tr>\n",
       "    <tr>\n",
       "      <th>13176</th>\n",
       "      <td>379450</td>\n",
       "    </tr>\n",
       "    <tr>\n",
       "      <th>21137</th>\n",
       "      <td>264683</td>\n",
       "    </tr>\n",
       "    <tr>\n",
       "      <th>21903</th>\n",
       "      <td>241921</td>\n",
       "    </tr>\n",
       "    <tr>\n",
       "      <th>47209</th>\n",
       "      <td>213584</td>\n",
       "    </tr>\n",
       "  </tbody>\n",
       "</table>\n",
       "</div>"
      ],
      "text/plain": [
       "       frequency\n",
       "24852     472565\n",
       "13176     379450\n",
       "21137     264683\n",
       "21903     241921\n",
       "47209     213584"
      ]
     },
     "execution_count": 75,
     "metadata": {},
     "output_type": "execute_result"
    }
   ],
   "source": [
    "df_product_frequency = pd.DataFrame(df_product_frequency).rename(columns={\"product_id\": \"frequency\"})\n",
    "\n",
    "df_product_frequency.head()"
   ]
  },
  {
   "cell_type": "code",
   "execution_count": 76,
   "metadata": {},
   "outputs": [
    {
     "data": {
      "text/html": [
       "<div>\n",
       "<style>\n",
       "    .dataframe thead tr:only-child th {\n",
       "        text-align: right;\n",
       "    }\n",
       "\n",
       "    .dataframe thead th {\n",
       "        text-align: left;\n",
       "    }\n",
       "\n",
       "    .dataframe tbody tr th {\n",
       "        vertical-align: top;\n",
       "    }\n",
       "</style>\n",
       "<table border=\"1\" class=\"dataframe\">\n",
       "  <thead>\n",
       "    <tr style=\"text-align: right;\">\n",
       "      <th></th>\n",
       "      <th>user_id</th>\n",
       "      <th>products</th>\n",
       "    </tr>\n",
       "  </thead>\n",
       "  <tbody>\n",
       "    <tr>\n",
       "      <th>0</th>\n",
       "      <td>1</td>\n",
       "      <td>[196, 25133, 38928, 26405, 39657, 10258, 13032...</td>\n",
       "    </tr>\n",
       "    <tr>\n",
       "      <th>1</th>\n",
       "      <td>2</td>\n",
       "      <td>[22963, 7963, 16589, 32792, 41787, 22825, 1364...</td>\n",
       "    </tr>\n",
       "    <tr>\n",
       "      <th>2</th>\n",
       "      <td>5</td>\n",
       "      <td>[15349, 19057, 16185, 21413, 20843, 20114, 482...</td>\n",
       "    </tr>\n",
       "    <tr>\n",
       "      <th>3</th>\n",
       "      <td>7</td>\n",
       "      <td>[12053, 47272, 37999, 13198, 43967, 40852, 176...</td>\n",
       "    </tr>\n",
       "    <tr>\n",
       "      <th>4</th>\n",
       "      <td>8</td>\n",
       "      <td>[15937, 5539, 10960, 23165, 22247, 4853, 27104...</td>\n",
       "    </tr>\n",
       "  </tbody>\n",
       "</table>\n",
       "</div>"
      ],
      "text/plain": [
       "   user_id                                           products\n",
       "0        1  [196, 25133, 38928, 26405, 39657, 10258, 13032...\n",
       "1        2  [22963, 7963, 16589, 32792, 41787, 22825, 1364...\n",
       "2        5  [15349, 19057, 16185, 21413, 20843, 20114, 482...\n",
       "3        7  [12053, 47272, 37999, 13198, 43967, 40852, 176...\n",
       "4        8  [15937, 5539, 10960, 23165, 22247, 4853, 27104..."
      ]
     },
     "execution_count": 76,
     "metadata": {},
     "output_type": "execute_result"
    }
   ],
   "source": [
    "df_user_products_test.head()"
   ]
  },
  {
   "cell_type": "code",
   "execution_count": 223,
   "metadata": {
    "collapsed": true
   },
   "outputs": [],
   "source": [
    "def tfidf_weight(tf):\n",
    "    tf_idf = coo_matrix(tf)\n",
    "\n",
    "    # calculate IDF\n",
    "    N = float(tf_idf.shape[0])\n",
    "    idf = log(N / (1 + bincount(tf_idf.col)))\n",
    "\n",
    "    # apply TF-IDF adjustment\n",
    "    tf_idf.data = sqrt(tf_idf.data) * idf[tf_idf.col]\n",
    "    return tf_idf\n",
    "\n",
    "tf_idf = tfidf_weight(utility_matrix)\n",
    "\n",
    "# convert to Compressed Sparse Row format\n",
    "tf_idf = tf_idf.tocsr()"
   ]
  },
  {
   "cell_type": "code",
   "execution_count": 224,
   "metadata": {},
   "outputs": [
    {
     "data": {
      "text/plain": [
       "<206209x49677 sparse matrix of type '<class 'numpy.float64'>'\n",
       "\twith 13307953 stored elements in Compressed Sparse Row format>"
      ]
     },
     "execution_count": 224,
     "metadata": {},
     "output_type": "execute_result"
    }
   ],
   "source": [
    "tf_idf"
   ]
  },
  {
   "cell_type": "code",
   "execution_count": 225,
   "metadata": {
    "collapsed": true
   },
   "outputs": [],
   "source": [
    "# Selecting one user to test\n",
    "target_user_id = 1\n",
    "\n",
    "# Fetch row of target user\n",
    "target_user = tf_idf[target_user_id - 1]\n",
    "\n",
    "# Calculate Cosine Similarity Vector of target user\n",
    "similarities = cosine_similarity(tf_idf, target_user, False)\n",
    "\n",
    "recommendations = generateRecommendations(target_user, similarities.toarray(), 20, 10)"
   ]
  },
  {
   "cell_type": "code",
   "execution_count": 226,
   "metadata": {},
   "outputs": [
    {
     "name": "stdout",
     "output_type": "stream",
     "text": [
      "Recommended products for User 1:\n",
      "[500, 26104, 4149, 41400, 22802, 12916, 37710, 9755, 16797, 5258]\n"
     ]
    }
   ],
   "source": [
    "# Output the product_name of Target User's products as well as Recommendations\n",
    "print('Recommended products for User {}:'.format(target_user_id))\n",
    "print(recommendations)"
   ]
  },
  {
   "cell_type": "code",
   "execution_count": 227,
   "metadata": {},
   "outputs": [
    {
     "data": {
      "text/html": [
       "<div>\n",
       "<style>\n",
       "    .dataframe thead tr:only-child th {\n",
       "        text-align: right;\n",
       "    }\n",
       "\n",
       "    .dataframe thead th {\n",
       "        text-align: left;\n",
       "    }\n",
       "\n",
       "    .dataframe tbody tr th {\n",
       "        vertical-align: top;\n",
       "    }\n",
       "</style>\n",
       "<table border=\"1\" class=\"dataframe\">\n",
       "  <thead>\n",
       "    <tr style=\"text-align: right;\">\n",
       "      <th></th>\n",
       "      <th>user_id</th>\n",
       "      <th>products</th>\n",
       "      <th>past_products</th>\n",
       "      <th>new_products</th>\n",
       "      <th>Recall_Top_Recommended</th>\n",
       "      <th>Recall_SVD</th>\n",
       "      <th>Recall_IMF</th>\n",
       "      <th>3</th>\n",
       "      <th>4</th>\n",
       "      <th>5</th>\n",
       "      <th>...</th>\n",
       "      <th>10</th>\n",
       "      <th>11</th>\n",
       "      <th>12</th>\n",
       "      <th>13</th>\n",
       "      <th>14</th>\n",
       "      <th>15</th>\n",
       "      <th>16</th>\n",
       "      <th>17</th>\n",
       "      <th>18</th>\n",
       "      <th>19</th>\n",
       "    </tr>\n",
       "  </thead>\n",
       "  <tbody>\n",
       "    <tr>\n",
       "      <th>0</th>\n",
       "      <td>29499</td>\n",
       "      <td>[32650, 2536, 11731, 17493, 32194]</td>\n",
       "      <td>{32650, 36106, 16652, 48532, 42525, 3873, 3012...</td>\n",
       "      <td>{32194}</td>\n",
       "      <td>0.0</td>\n",
       "      <td>0.00</td>\n",
       "      <td>0.0</td>\n",
       "      <td>0.0</td>\n",
       "      <td>0.0</td>\n",
       "      <td>0.000000</td>\n",
       "      <td>...</td>\n",
       "      <td>0.0</td>\n",
       "      <td>0.0</td>\n",
       "      <td>0.0</td>\n",
       "      <td>0.0</td>\n",
       "      <td>0.0</td>\n",
       "      <td>0.0</td>\n",
       "      <td>0.0</td>\n",
       "      <td>0.0</td>\n",
       "      <td>0.0</td>\n",
       "      <td>0.0</td>\n",
       "    </tr>\n",
       "    <tr>\n",
       "      <th>1</th>\n",
       "      <td>7707</td>\n",
       "      <td>[36144, 12341, 8424, 23165, 30850, 15130, 34229]</td>\n",
       "      <td>{34050, 46088, 26505, 38154, 47626, 11022, 190...</td>\n",
       "      <td>{8424, 30850, 12341, 34229}</td>\n",
       "      <td>0.0</td>\n",
       "      <td>0.25</td>\n",
       "      <td>0.0</td>\n",
       "      <td>0.0</td>\n",
       "      <td>0.0</td>\n",
       "      <td>0.000000</td>\n",
       "      <td>...</td>\n",
       "      <td>0.0</td>\n",
       "      <td>0.0</td>\n",
       "      <td>0.0</td>\n",
       "      <td>0.0</td>\n",
       "      <td>0.0</td>\n",
       "      <td>0.0</td>\n",
       "      <td>0.0</td>\n",
       "      <td>0.0</td>\n",
       "      <td>0.0</td>\n",
       "      <td>0.0</td>\n",
       "    </tr>\n",
       "    <tr>\n",
       "      <th>2</th>\n",
       "      <td>125327</td>\n",
       "      <td>[24891, 17506, 6184]</td>\n",
       "      <td>{22657, 19459, 47626, 48523, 913, 24850, 35221...</td>\n",
       "      <td>{17506, 24891}</td>\n",
       "      <td>0.0</td>\n",
       "      <td>0.00</td>\n",
       "      <td>0.0</td>\n",
       "      <td>0.0</td>\n",
       "      <td>0.0</td>\n",
       "      <td>0.000000</td>\n",
       "      <td>...</td>\n",
       "      <td>0.0</td>\n",
       "      <td>0.0</td>\n",
       "      <td>0.0</td>\n",
       "      <td>0.0</td>\n",
       "      <td>0.0</td>\n",
       "      <td>0.0</td>\n",
       "      <td>0.0</td>\n",
       "      <td>0.0</td>\n",
       "      <td>0.0</td>\n",
       "      <td>0.0</td>\n",
       "    </tr>\n",
       "    <tr>\n",
       "      <th>3</th>\n",
       "      <td>93878</td>\n",
       "      <td>[26759, 13176]</td>\n",
       "      <td>{10371, 7751, 26759, 9358, 48532, 12341, 41558...</td>\n",
       "      <td>{13176}</td>\n",
       "      <td>1.0</td>\n",
       "      <td>0.00</td>\n",
       "      <td>0.0</td>\n",
       "      <td>0.0</td>\n",
       "      <td>1.0</td>\n",
       "      <td>1.000000</td>\n",
       "      <td>...</td>\n",
       "      <td>0.0</td>\n",
       "      <td>0.0</td>\n",
       "      <td>0.0</td>\n",
       "      <td>0.0</td>\n",
       "      <td>0.0</td>\n",
       "      <td>0.0</td>\n",
       "      <td>0.0</td>\n",
       "      <td>0.0</td>\n",
       "      <td>0.0</td>\n",
       "      <td>0.0</td>\n",
       "    </tr>\n",
       "    <tr>\n",
       "      <th>4</th>\n",
       "      <td>10029</td>\n",
       "      <td>[38223, 34134, 3020, 12020, 10036, 2923, 39468...</td>\n",
       "      <td>{2067, 49683, 1559, 23579, 20512, 47144, 6187,...</td>\n",
       "      <td>{29156, 19366, 13225, 329, 2923, 39468, 3020, ...</td>\n",
       "      <td>0.0</td>\n",
       "      <td>0.00</td>\n",
       "      <td>0.0</td>\n",
       "      <td>0.0</td>\n",
       "      <td>0.0</td>\n",
       "      <td>0.055556</td>\n",
       "      <td>...</td>\n",
       "      <td>0.0</td>\n",
       "      <td>0.0</td>\n",
       "      <td>0.0</td>\n",
       "      <td>0.0</td>\n",
       "      <td>0.0</td>\n",
       "      <td>0.0</td>\n",
       "      <td>0.0</td>\n",
       "      <td>0.0</td>\n",
       "      <td>0.0</td>\n",
       "      <td>0.0</td>\n",
       "    </tr>\n",
       "  </tbody>\n",
       "</table>\n",
       "<p>5 rows × 24 columns</p>\n",
       "</div>"
      ],
      "text/plain": [
       "   user_id                                           products  \\\n",
       "0    29499                 [32650, 2536, 11731, 17493, 32194]   \n",
       "1     7707   [36144, 12341, 8424, 23165, 30850, 15130, 34229]   \n",
       "2   125327                               [24891, 17506, 6184]   \n",
       "3    93878                                     [26759, 13176]   \n",
       "4    10029  [38223, 34134, 3020, 12020, 10036, 2923, 39468...   \n",
       "\n",
       "                                       past_products  \\\n",
       "0  {32650, 36106, 16652, 48532, 42525, 3873, 3012...   \n",
       "1  {34050, 46088, 26505, 38154, 47626, 11022, 190...   \n",
       "2  {22657, 19459, 47626, 48523, 913, 24850, 35221...   \n",
       "3  {10371, 7751, 26759, 9358, 48532, 12341, 41558...   \n",
       "4  {2067, 49683, 1559, 23579, 20512, 47144, 6187,...   \n",
       "\n",
       "                                        new_products  Recall_Top_Recommended  \\\n",
       "0                                            {32194}                     0.0   \n",
       "1                        {8424, 30850, 12341, 34229}                     0.0   \n",
       "2                                     {17506, 24891}                     0.0   \n",
       "3                                            {13176}                     1.0   \n",
       "4  {29156, 19366, 13225, 329, 2923, 39468, 3020, ...                     0.0   \n",
       "\n",
       "   Recall_SVD  Recall_IMF    3    4         5 ...    10   11   12   13   14  \\\n",
       "0        0.00         0.0  0.0  0.0  0.000000 ...   0.0  0.0  0.0  0.0  0.0   \n",
       "1        0.25         0.0  0.0  0.0  0.000000 ...   0.0  0.0  0.0  0.0  0.0   \n",
       "2        0.00         0.0  0.0  0.0  0.000000 ...   0.0  0.0  0.0  0.0  0.0   \n",
       "3        0.00         0.0  0.0  1.0  1.000000 ...   0.0  0.0  0.0  0.0  0.0   \n",
       "4        0.00         0.0  0.0  0.0  0.055556 ...   0.0  0.0  0.0  0.0  0.0   \n",
       "\n",
       "    15   16   17   18   19  \n",
       "0  0.0  0.0  0.0  0.0  0.0  \n",
       "1  0.0  0.0  0.0  0.0  0.0  \n",
       "2  0.0  0.0  0.0  0.0  0.0  \n",
       "3  0.0  0.0  0.0  0.0  0.0  \n",
       "4  0.0  0.0  0.0  0.0  0.0  \n",
       "\n",
       "[5 rows x 24 columns]"
      ]
     },
     "execution_count": 227,
     "metadata": {},
     "output_type": "execute_result"
    }
   ],
   "source": [
    "df_eval.head()"
   ]
  },
  {
   "cell_type": "code",
   "execution_count": 228,
   "metadata": {},
   "outputs": [
    {
     "data": {
      "text/html": [
       "<div>\n",
       "<style>\n",
       "    .dataframe thead tr:only-child th {\n",
       "        text-align: right;\n",
       "    }\n",
       "\n",
       "    .dataframe thead th {\n",
       "        text-align: left;\n",
       "    }\n",
       "\n",
       "    .dataframe tbody tr th {\n",
       "        vertical-align: top;\n",
       "    }\n",
       "</style>\n",
       "<table border=\"1\" class=\"dataframe\">\n",
       "  <thead>\n",
       "    <tr style=\"text-align: right;\">\n",
       "      <th></th>\n",
       "      <th>user_id</th>\n",
       "      <th>products</th>\n",
       "      <th>past_products</th>\n",
       "      <th>new_products</th>\n",
       "      <th>Recall_Top_Recommended</th>\n",
       "      <th>Recall_SVD</th>\n",
       "      <th>Recall_IMF</th>\n",
       "    </tr>\n",
       "  </thead>\n",
       "  <tbody>\n",
       "    <tr>\n",
       "      <th>0</th>\n",
       "      <td>29499</td>\n",
       "      <td>[32650, 2536, 11731, 17493, 32194]</td>\n",
       "      <td>{32650, 36106, 16652, 48532, 42525, 3873, 3012...</td>\n",
       "      <td>{32194}</td>\n",
       "      <td>0.0</td>\n",
       "      <td>0.00</td>\n",
       "      <td>0.0</td>\n",
       "    </tr>\n",
       "    <tr>\n",
       "      <th>1</th>\n",
       "      <td>7707</td>\n",
       "      <td>[36144, 12341, 8424, 23165, 30850, 15130, 34229]</td>\n",
       "      <td>{34050, 46088, 26505, 38154, 47626, 11022, 190...</td>\n",
       "      <td>{8424, 30850, 12341, 34229}</td>\n",
       "      <td>0.0</td>\n",
       "      <td>0.25</td>\n",
       "      <td>0.0</td>\n",
       "    </tr>\n",
       "    <tr>\n",
       "      <th>2</th>\n",
       "      <td>125327</td>\n",
       "      <td>[24891, 17506, 6184]</td>\n",
       "      <td>{22657, 19459, 47626, 48523, 913, 24850, 35221...</td>\n",
       "      <td>{17506, 24891}</td>\n",
       "      <td>0.0</td>\n",
       "      <td>0.00</td>\n",
       "      <td>0.0</td>\n",
       "    </tr>\n",
       "    <tr>\n",
       "      <th>3</th>\n",
       "      <td>93878</td>\n",
       "      <td>[26759, 13176]</td>\n",
       "      <td>{10371, 7751, 26759, 9358, 48532, 12341, 41558...</td>\n",
       "      <td>{13176}</td>\n",
       "      <td>1.0</td>\n",
       "      <td>0.00</td>\n",
       "      <td>0.0</td>\n",
       "    </tr>\n",
       "    <tr>\n",
       "      <th>4</th>\n",
       "      <td>10029</td>\n",
       "      <td>[38223, 34134, 3020, 12020, 10036, 2923, 39468...</td>\n",
       "      <td>{2067, 49683, 1559, 23579, 20512, 47144, 6187,...</td>\n",
       "      <td>{29156, 19366, 13225, 329, 2923, 39468, 3020, ...</td>\n",
       "      <td>0.0</td>\n",
       "      <td>0.00</td>\n",
       "      <td>0.0</td>\n",
       "    </tr>\n",
       "  </tbody>\n",
       "</table>\n",
       "</div>"
      ],
      "text/plain": [
       "   user_id                                           products  \\\n",
       "0    29499                 [32650, 2536, 11731, 17493, 32194]   \n",
       "1     7707   [36144, 12341, 8424, 23165, 30850, 15130, 34229]   \n",
       "2   125327                               [24891, 17506, 6184]   \n",
       "3    93878                                     [26759, 13176]   \n",
       "4    10029  [38223, 34134, 3020, 12020, 10036, 2923, 39468...   \n",
       "\n",
       "                                       past_products  \\\n",
       "0  {32650, 36106, 16652, 48532, 42525, 3873, 3012...   \n",
       "1  {34050, 46088, 26505, 38154, 47626, 11022, 190...   \n",
       "2  {22657, 19459, 47626, 48523, 913, 24850, 35221...   \n",
       "3  {10371, 7751, 26759, 9358, 48532, 12341, 41558...   \n",
       "4  {2067, 49683, 1559, 23579, 20512, 47144, 6187,...   \n",
       "\n",
       "                                        new_products  Recall_Top_Recommended  \\\n",
       "0                                            {32194}                     0.0   \n",
       "1                        {8424, 30850, 12341, 34229}                     0.0   \n",
       "2                                     {17506, 24891}                     0.0   \n",
       "3                                            {13176}                     1.0   \n",
       "4  {29156, 19366, 13225, 329, 2923, 39468, 3020, ...                     0.0   \n",
       "\n",
       "   Recall_SVD  Recall_IMF  \n",
       "0        0.00         0.0  \n",
       "1        0.25         0.0  \n",
       "2        0.00         0.0  \n",
       "3        0.00         0.0  \n",
       "4        0.00         0.0  "
      ]
     },
     "execution_count": 228,
     "metadata": {},
     "output_type": "execute_result"
    }
   ],
   "source": [
    "df_eval.drop([3,4,5,6,7,8,9,10,11,12,13,14,15,16,17,18,19], axis=1, inplace=True)\n",
    "\n",
    "df_eval.head()"
   ]
  },
  {
   "cell_type": "code",
   "execution_count": 247,
   "metadata": {},
   "outputs": [],
   "source": [
    "def generateRecommendations(target_user_id, target_user, cos_vec, K, N):\n",
    "    top_K_similar_users = heapq.nlargest(K+1, range(len(cos_vec)), cos_vec.take)\n",
    "\n",
    "    recommendations = []\n",
    "    products_target_user = df_prior_user_products.loc[df_prior_user_products['user_id'] == target_user_id].products\n",
    "    productset_target_user = set(products_target_user.tolist()[0])\n",
    "\n",
    "    for similar_user_id in top_K_similar_users:\n",
    "        \n",
    "        products_similar_user = df_prior_user_products.loc[df_prior_user_products['user_id'] == similar_user_id + 1].products\n",
    "        candidate_recommendation = set(products_similar_user.tolist()[0]) - productset_target_user\n",
    "\n",
    "        if similar_user_id == target_user_id or not candidate_recommendation: continue\n",
    "\n",
    "        recommendations.extend(candidate_recommendation)\n",
    "\n",
    "        if len(recommendations) > N: break\n",
    "        \n",
    "    h = []\n",
    "    for rec in recommendations:\n",
    "        heapq.heappush(h, (df_product_frequency.loc[rec]['frequency'], rec))\n",
    "        if len(h) > N:\n",
    "            heapq.heappop(h)\n",
    "            \n",
    "    return [item[1] for item in h]"
   ]
  },
  {
   "cell_type": "code",
   "execution_count": 250,
   "metadata": {},
   "outputs": [],
   "source": [
    "def tfidf_recommend(row):\n",
    "    \n",
    "    new_products = set(row[\"new_products\"])\n",
    "    \n",
    "    if len(new_products) == 0:\n",
    "        return 0\n",
    "    \n",
    "    target_user = tf_idf[u_dict[row[\"user_id\"]]]\n",
    "    similarities = cosine_similarity(tf_idf, target_user, False)\n",
    "    cos_vec = similarities.toarray()\n",
    "    \n",
    "    recommended = generateRecommendations(u_dict[row[\"user_id\"]], target_user, cos_vec, 20, 10)\n",
    "    \n",
    "    pred = set(recommended)\n",
    "    \n",
    "    return len(new_products.intersection(pred)) / len(new_products)\n",
    "\n",
    "df_eval[\"tfidf_score\"] = df_eval.apply(tfidf_recommend, axis=1)"
   ]
  },
  {
   "cell_type": "code",
   "execution_count": 251,
   "metadata": {},
   "outputs": [
    {
     "name": "stdout",
     "output_type": "stream",
     "text": [
      "TFIDF recommendations recall: 2.20%\n"
     ]
    }
   ],
   "source": [
    "print(\"TFIDF recommendations recall: {:.2f}%\".format(df_eval.tfidf_score.mean() * 100))"
   ]
  },
  {
   "cell_type": "code",
   "execution_count": null,
   "metadata": {
    "collapsed": true
   },
   "outputs": [],
   "source": []
  }
 ],
 "metadata": {
  "kernelspec": {
   "display_name": "Python 3",
   "language": "python",
   "name": "python3"
  },
  "language_info": {
   "codemirror_mode": {
    "name": "ipython",
    "version": 3
   },
   "file_extension": ".py",
   "mimetype": "text/x-python",
   "name": "python",
   "nbconvert_exporter": "python",
   "pygments_lexer": "ipython3",
   "version": "3.6.1"
  }
 },
 "nbformat": 4,
 "nbformat_minor": 2
}
